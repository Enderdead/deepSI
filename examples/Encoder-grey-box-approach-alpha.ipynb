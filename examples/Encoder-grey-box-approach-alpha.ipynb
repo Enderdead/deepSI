{
 "cells": [
  {
   "cell_type": "code",
   "execution_count": 1,
   "id": "5d21ca33",
   "metadata": {},
   "outputs": [],
   "source": [
    "import deepSI\n",
    "import numpy as np\n",
    "from matplotlib import pyplot as plt\n",
    "import torch\n",
    "from torch import optim, nn\n",
    "from tqdm.auto import tqdm\n",
    "from deepSI import System_data, System_data_list"
   ]
  },
  {
   "cell_type": "markdown",
   "id": "4d7130df",
   "metadata": {},
   "source": [
    "## Data generation\n",
    "\n",
    "Creating some data for the system\n",
    "\n",
    "$$\n",
    "x_{t+1} = a x_t + u_t\\\\\n",
    "y_t = x_t\n",
    "$$\n",
    "\n",
    "with $a=0.5$"
   ]
  },
  {
   "cell_type": "code",
   "execution_count": 2,
   "id": "01f4b843",
   "metadata": {},
   "outputs": [
    {
     "name": "stdout",
     "output_type": "stream",
     "text": [
      "train:\t System_data of length: 5625 nu=None ny=None normed=False dt=None\n",
      "val:\t System_data of length: 1875 nu=None ny=None normed=False dt=None\n",
      "test:\t System_data of length: 2500 nu=None ny=None normed=False dt=None\n"
     ]
    }
   ],
   "source": [
    "class my_sys(deepSI.System_ss): #a simple state-space wrapper of the general System class\n",
    "    def __init__(self, a=0.5):\n",
    "        super(my_sys, self).__init__(nx=1)\n",
    "        self.a = a\n",
    "    \n",
    "    def f(self, x, u):\n",
    "        return self.a*x + u\n",
    "    \n",
    "    def h(self,x):\n",
    "        return x[0]\n",
    "\n",
    "a_now = 0.5\n",
    "sys = my_sys(a=a_now)\n",
    "data = sys.sample_system(N_sampes=10000) #uniform -1,1 \n",
    "train, test = data.train_test_split()\n",
    "train, val = train.train_test_split()\n",
    "print('train:\\t', train)\n",
    "print('val:\\t', val)\n",
    "print('test:\\t', test)"
   ]
  },
  {
   "cell_type": "markdown",
   "id": "d09de0e3",
   "metadata": {},
   "source": [
    "## Creating a custom encoder, $f_\\theta$, $g_\\theta$ for this sytem."
   ]
  },
  {
   "cell_type": "code",
   "execution_count": 35,
   "id": "04234b90",
   "metadata": {},
   "outputs": [],
   "source": [
    "class my_encoder_net(nn.Module): #a simple FC net with a residual (defaulth appraoch)\n",
    "    def __init__(self, nb, nu, na, ny, nx, n_nodes_per_layer=64, n_hidden_layers=2, activation=nn.Tanh):\n",
    "        super(my_encoder_net, self).__init__()\n",
    "        from deepSI.utils import simple_res_net\n",
    "        self.nu = tuple() if nu is None else ((nu,) if isinstance(nu,int) else nu)\n",
    "        self.ny = tuple() if ny is None else ((ny,) if isinstance(ny,int) else ny)\n",
    "        self.net = simple_res_net(n_in=nb*np.prod(self.nu,dtype=int) + na*np.prod(self.ny,dtype=int), \\\n",
    "            n_out=nx, n_nodes_per_layer=n_nodes_per_layer, n_hidden_layers=n_hidden_layers, activation=activation)\n",
    "\n",
    "    def forward(self, upast, ypast):\n",
    "        net_in = torch.cat([upast.view(upast.shape[0],-1),ypast.view(ypast.shape[0],-1)],axis=1)\n",
    "        return self.net(net_in)\n",
    "\n",
    "class my_lin_encoder_net(nn.Module): #linear encoder appraoch\n",
    "    def __init__(self, nb, nu, na, ny, nx, b0=0.5):\n",
    "        super(my_lin_encoder_net, self).__init__()\n",
    "        self.b = nn.Parameter(data=torch.as_tensor(b0))\n",
    "\n",
    "    def forward(self, upast, ypast):\n",
    "        #first dimention is always the batch dimension (Nb)\n",
    "        #upast shape: (Nb, nb)\n",
    "        #ypast shape: (Nb, na)\n",
    "        return (upast[:,-1] + self.b*ypast[:,-1])[:,None]\n",
    "\n",
    "class my_state_net(nn.Module): #\n",
    "    def __init__(self, nx, nu, a0=0.5):\n",
    "        super(my_state_net, self).__init__()\n",
    "        self.a = nn.Parameter(data=torch.as_tensor(a0))\n",
    "\n",
    "    def forward(self, x, u):\n",
    "        #first dimention is always the batch dimention\n",
    "        # x shape: (Nb, 1)\n",
    "        # u shape: (Nb)\n",
    "        return x*self.a + u[:,None]\n",
    "\n",
    "class my_output_net(nn.Module):\n",
    "    def __init__(self, nx, ny):\n",
    "        super(my_output_net, self).__init__()\n",
    "\n",
    "    def forward(self, x):\n",
    "        #first dimention is always the batch dimention\n",
    "        return x[:,0] #(Nb,nx)"
   ]
  },
  {
   "cell_type": "markdown",
   "id": "91cfa124",
   "metadata": {},
   "source": [
    "## test if this setup can reproduce the data"
   ]
  },
  {
   "cell_type": "code",
   "execution_count": 16,
   "id": "116bd452",
   "metadata": {},
   "outputs": [
    {
     "data": {
      "image/png": "[encoded data removed]",
      "text/plain": [
       "<Figure size 432x288 with 1 Axes>"
      ]
     },
     "metadata": {
      "needs_background": "light"
     },
     "output_type": "display_data"
    },
    {
     "data": {
      "text/plain": [
       "3.2492308559090995e-08"
      ]
     },
     "execution_count": 16,
     "metadata": {},
     "output_type": "execute_result"
    }
   ],
   "source": [
    "\n",
    "fit_sys = deepSI.fit_systems.SS_encoder_general(nx=1, na=1, nb=1, \\\n",
    "                                                e_net=my_lin_encoder_net, e_net_kwargs=dict(b0=a_now),\\\n",
    "                                                f_net=my_state_net, f_net_kwargs=dict(a0=a_now),\\\n",
    "                                                h_net=my_output_net)\n",
    "fit_sys.parameters = fit_sys.init_nets(None,None) #init the network callaed as e_net(**e_net_kwargs) \n",
    "test_p = fit_sys.apply_experiment(test)\n",
    "test.plot()\n",
    "(test_p-test).plot()\n",
    "plt.show()\n",
    "test_p.NRMS(test) #3.2e-8"
   ]
  },
  {
   "cell_type": "markdown",
   "id": "d28bfb46",
   "metadata": {},
   "source": [
    "# Fitting with linear encoder"
   ]
  },
  {
   "cell_type": "code",
   "execution_count": 25,
   "id": "e3ab6e3c",
   "metadata": {
    "scrolled": true
   },
   "outputs": [
    {
     "name": "stdout",
     "output_type": "stream",
     "text": [
      "Size of the training array =  2.9 MB\n",
      "N_training_samples = 5581, batch_size = 256, N_batch_updates_per_epoch = 21\n",
      "Initial Validation NRMS= 0.07005444501319882\n"
     ]
    },
    {
     "data": {
      "application/vnd.jupyter.widget-view+json": {
       "model_id": "f55c677c8095469092381cc2241a1e05",
       "version_major": 2,
       "version_minor": 0
      },
      "text/plain": [
       "  0%|          | 0/100 [00:00<?, ?it/s]"
      ]
     },
     "metadata": {},
     "output_type": "display_data"
    },
    {
     "name": "stdout",
     "output_type": "stream",
     "text": [
      "########## New lowest validation loss achieved ########### NRMS = 0.041742631692214295\n",
      "Epoch    1, sqrt loss 0.06501, Val NRMS 0.04174, Time Loss: 53.3%, data: 4.4%, val: 42.4%, 135.5 batches/sec\n",
      "########## New lowest validation loss achieved ########### NRMS = 0.013509404181263316\n",
      "Epoch    2, sqrt loss 0.03326, Val NRMS 0.01351, Time Loss: 52.1%, data: 4.1%, val: 43.8%, 142.1 batches/sec\n",
      "########## New lowest validation loss achieved ########### NRMS = 0.01109908465320843\n",
      "Epoch    3, sqrt loss 0.008261, Val NRMS 0.0111, Time Loss: 52.4%, data: 2.9%, val: 44.5%, 148.0 batches/sec\n",
      "Epoch    4, sqrt loss 0.02228, Val NRMS 0.02593, Time Loss: 48.4%, data: 2.8%, val: 48.7%, 141.0 batches/sec\n",
      "Epoch    5, sqrt loss  0.0317, Val NRMS 0.02836, Time Loss: 49.0%, data: 3.1%, val: 47.7%, 139.5 batches/sec\n",
      "Epoch    6, sqrt loss 0.02921, Val NRMS 0.02166, Time Loss: 48.4%, data: 3.5%, val: 47.9%, 142.6 batches/sec\n",
      "########## New lowest validation loss achieved ########### NRMS = 0.010479514210929783\n",
      "Epoch    7, sqrt loss 0.01911, Val NRMS 0.01048, Time Loss: 48.4%, data: 3.8%, val: 47.8%, 141.8 batches/sec\n",
      "########## New lowest validation loss achieved ########### NRMS = 0.0012606962972640959\n",
      "Epoch    8, sqrt loss 0.006758, Val NRMS 0.001261, Time Loss: 48.3%, data: 4.1%, val: 47.6%, 141.4 batches/sec\n",
      "Epoch    9, sqrt loss 0.007319, Val NRMS 0.01045, Time Loss: 48.5%, data: 3.7%, val: 47.8%, 141.7 batches/sec\n",
      "Epoch   10, sqrt loss 0.01488, Val NRMS 0.01519, Time Loss: 48.6%, data: 3.5%, val: 47.8%, 144.4 batches/sec\n",
      "Epoch   11, sqrt loss 0.01751, Val NRMS 0.01505, Time Loss: 49.0%, data: 3.2%, val: 47.7%, 141.6 batches/sec\n",
      "Epoch   12, sqrt loss  0.0152, Val NRMS 0.01098, Time Loss: 49.2%, data: 3.1%, val: 47.6%, 142.2 batches/sec\n",
      "Epoch   13, sqrt loss 0.009374, Val NRMS 0.004628, Time Loss: 48.9%, data: 3.2%, val: 47.7%, 143.4 batches/sec\n",
      "Epoch   14, sqrt loss 0.002754, Val NRMS 0.002028, Time Loss: 49.3%, data: 3.4%, val: 47.2%, 141.8 batches/sec\n",
      "Epoch   15, sqrt loss 0.005429, Val NRMS 0.007013, Time Loss: 49.7%, data: 3.3%, val: 46.9%, 141.1 batches/sec\n",
      "Epoch   16, sqrt loss 0.009297, Val NRMS 0.008993, Time Loss: 49.4%, data: 3.2%, val: 47.4%, 141.9 batches/sec\n",
      "Epoch   17, sqrt loss 0.009775, Val NRMS 0.007759, Time Loss: 49.3%, data: 3.1%, val: 47.5%, 143.1 batches/sec\n",
      "Epoch   18, sqrt loss 0.007123, Val NRMS 0.004246, Time Loss: 49.2%, data: 3.4%, val: 47.3%, 143.5 batches/sec\n",
      "########## New lowest validation loss achieved ########### NRMS = 4.9773907756671195e-05\n",
      "Epoch   19, sqrt loss 0.002888, Val NRMS 4.977e-05, Time Loss: 49.2%, data: 3.2%, val: 47.5%, 143.7 batches/sec\n",
      "Epoch   20, sqrt loss 0.00236, Val NRMS 0.003581, Time Loss: 49.1%, data: 3.1%, val: 47.7%, 144.3 batches/sec\n",
      "Epoch   21, sqrt loss 0.005175, Val NRMS 0.005298, Time Loss: 48.7%, data: 3.1%, val: 48.1%, 144.2 batches/sec\n",
      "Epoch   22, sqrt loss 0.005939, Val NRMS 0.004893, Time Loss: 48.2%, data: 3.2%, val: 48.5%, 143.1 batches/sec\n",
      "Epoch   23, sqrt loss 0.004577, Val NRMS 0.002828, Time Loss: 48.2%, data: 3.2%, val: 48.6%, 143.7 batches/sec\n",
      "Epoch   24, sqrt loss 0.001951, Val NRMS 7.692e-05, Time Loss: 48.1%, data: 3.1%, val: 48.7%, 143.9 batches/sec\n",
      "Epoch   25, sqrt loss 0.001442, Val NRMS 0.002242, Time Loss: 48.1%, data: 3.2%, val: 48.7%, 143.2 batches/sec\n",
      "Epoch   26, sqrt loss 0.003242, Val NRMS 0.003303, Time Loss: 48.1%, data: 3.2%, val: 48.7%, 144.0 batches/sec\n",
      "Epoch   27, sqrt loss 0.003615, Val NRMS 0.002867, Time Loss: 48.1%, data: 3.1%, val: 48.8%, 144.2 batches/sec\n",
      "Epoch   28, sqrt loss 0.002534, Val NRMS 0.00135, Time Loss: 48.0%, data: 3.0%, val: 48.9%, 144.6 batches/sec\n",
      "Epoch   29, sqrt loss 0.0007968, Val NRMS 0.0004546, Time Loss: 48.1%, data: 3.0%, val: 48.8%, 144.7 batches/sec\n",
      "Epoch   30, sqrt loss 0.001353, Val NRMS 0.001753, Time Loss: 47.9%, data: 3.0%, val: 49.1%, 144.3 batches/sec\n",
      "Epoch   31, sqrt loss 0.002247, Val NRMS 0.002082, Time Loss: 47.9%, data: 3.0%, val: 49.1%, 143.6 batches/sec\n",
      "Epoch   32, sqrt loss 0.002085, Val NRMS 0.001442, Time Loss: 47.6%, data: 3.0%, val: 49.3%, 143.4 batches/sec\n",
      "Epoch   33, sqrt loss 0.001088, Val NRMS 0.0002741, Time Loss: 47.3%, data: 2.9%, val: 49.7%, 142.5 batches/sec\n",
      "Epoch   34, sqrt loss 0.0004755, Val NRMS 0.0008164, Time Loss: 47.5%, data: 2.9%, val: 49.5%, 142.3 batches/sec\n",
      "Epoch   35, sqrt loss 0.001274, Val NRMS 0.001336, Time Loss: 47.2%, data: 2.9%, val: 49.8%, 141.9 batches/sec\n",
      "Epoch   36, sqrt loss 0.00146, Val NRMS 0.001135, Time Loss: 47.4%, data: 2.9%, val: 49.6%, 141.8 batches/sec\n",
      "Epoch   37, sqrt loss 0.0009495, Val NRMS 0.0004198, Time Loss: 47.4%, data: 3.1%, val: 49.4%, 141.7 batches/sec\n",
      "Epoch   38, sqrt loss 0.0002633, Val NRMS 0.000374, Time Loss: 47.5%, data: 3.1%, val: 49.3%, 141.8 batches/sec\n",
      "Epoch   39, sqrt loss 0.0007367, Val NRMS 0.0008406, Time Loss: 47.4%, data: 3.2%, val: 49.4%, 141.9 batches/sec\n",
      "Epoch   40, sqrt loss 0.0009691, Val NRMS 0.0007966, Time Loss: 47.3%, data: 3.3%, val: 49.4%, 142.2 batches/sec\n",
      "Epoch   41, sqrt loss 0.0006966, Val NRMS 0.000351, Time Loss: 47.1%, data: 3.2%, val: 49.6%, 141.7 batches/sec\n",
      "Epoch   42, sqrt loss 0.0002041, Val NRMS 0.0002004, Time Loss: 47.0%, data: 3.2%, val: 49.7%, 141.6 batches/sec\n",
      "Epoch   43, sqrt loss 0.0004587, Val NRMS 0.0005468, Time Loss: 46.9%, data: 3.2%, val: 49.8%, 141.5 batches/sec\n",
      "Epoch   44, sqrt loss 0.0006433, Val NRMS 0.0005342, Time Loss: 47.0%, data: 3.2%, val: 49.8%, 141.9 batches/sec\n",
      "Epoch   45, sqrt loss 0.0004655, Val NRMS 0.0002302, Time Loss: 46.8%, data: 3.2%, val: 49.8%, 141.9 batches/sec\n",
      "Epoch   46, sqrt loss 0.0001342, Val NRMS 0.0001488, Time Loss: 46.8%, data: 3.3%, val: 49.7%, 141.4 batches/sec\n",
      "Epoch   47, sqrt loss 0.000322, Val NRMS 0.0003746, Time Loss: 46.9%, data: 3.3%, val: 49.6%, 140.7 batches/sec\n",
      "Epoch   48, sqrt loss 0.0004309, Val NRMS 0.0003428, Time Loss: 46.7%, data: 3.4%, val: 49.8%, 140.0 batches/sec\n",
      "Epoch   49, sqrt loss 0.0002848, Val NRMS 0.0001158, Time Loss: 46.7%, data: 3.3%, val: 49.8%, 139.9 batches/sec\n",
      "Epoch   50, sqrt loss 8.719e-05, Val NRMS 0.0001402, Time Loss: 46.6%, data: 3.4%, val: 49.8%, 140.2 batches/sec\n",
      "Epoch   51, sqrt loss 0.0002485, Val NRMS 0.0002653, Time Loss: 46.5%, data: 3.4%, val: 49.9%, 140.5 batches/sec\n",
      "Epoch   52, sqrt loss 0.0002839, Val NRMS 0.000204, Time Loss: 46.4%, data: 3.4%, val: 50.0%, 140.0 batches/sec\n",
      "########## New lowest validation loss achieved ########### NRMS = 2.5280723938837146e-05\n",
      "Epoch   53, sqrt loss 0.0001511, Val NRMS 2.528e-05, Time Loss: 46.4%, data: 3.4%, val: 50.0%, 139.9 batches/sec\n",
      "Epoch   54, sqrt loss 8.663e-05, Val NRMS 0.0001374, Time Loss: 46.5%, data: 3.4%, val: 50.0%, 139.9 batches/sec\n",
      "Epoch   55, sqrt loss 0.0001941, Val NRMS 0.0001821, Time Loss: 46.4%, data: 3.4%, val: 50.0%, 140.1 batches/sec\n",
      "Epoch   56, sqrt loss 0.0001735, Val NRMS 9.984e-05, Time Loss: 46.3%, data: 3.4%, val: 50.2%, 140.0 batches/sec\n",
      "Epoch   57, sqrt loss 6.031e-05, Val NRMS 3.403e-05, Time Loss: 46.3%, data: 3.4%, val: 50.2%, 140.0 batches/sec\n",
      "Epoch   58, sqrt loss 9.877e-05, Val NRMS 0.0001208, Time Loss: 46.4%, data: 3.3%, val: 50.2%, 140.2 batches/sec\n",
      "Epoch   59, sqrt loss 0.00014, Val NRMS 0.000109, Time Loss: 46.3%, data: 3.4%, val: 50.1%, 140.3 batches/sec\n",
      "########## New lowest validation loss achieved ########### NRMS = 2.4133602963251252e-05\n",
      "Epoch   60, sqrt loss 8.634e-05, Val NRMS 2.413e-05, Time Loss: 46.3%, data: 3.4%, val: 50.2%, 140.5 batches/sec\n",
      "Epoch   61, sqrt loss 3.667e-05, Val NRMS 6.241e-05, Time Loss: 45.9%, data: 3.4%, val: 50.5%, 139.7 batches/sec\n",
      "Epoch   62, sqrt loss 9.29e-05, Val NRMS 8.906e-05, Time Loss: 45.9%, data: 3.4%, val: 50.5%, 139.7 batches/sec\n",
      "Epoch   63, sqrt loss 8.451e-05, Val NRMS 4.645e-05, Time Loss: 46.0%, data: 3.4%, val: 50.5%, 139.1 batches/sec\n",
      "########## New lowest validation loss achieved ########### NRMS = 2.2362330801342208e-05\n",
      "Epoch   64, sqrt loss 2.76e-05, Val NRMS 2.236e-05, Time Loss: 46.2%, data: 3.4%, val: 50.3%, 139.0 batches/sec\n",
      "Epoch   65, sqrt loss 5.316e-05, Val NRMS 6.215e-05, Time Loss: 46.3%, data: 3.3%, val: 50.3%, 139.0 batches/sec\n",
      "Epoch   66, sqrt loss 6.781e-05, Val NRMS 4.8e-05, Time Loss: 46.2%, data: 3.4%, val: 50.3%, 139.0 batches/sec\n",
      "########## New lowest validation loss achieved ########### NRMS = 1.4987468515718799e-07\n",
      "Epoch   67, sqrt loss 3.381e-05, Val NRMS 1.499e-07, Time Loss: 46.2%, data: 3.4%, val: 50.3%, 139.0 batches/sec\n",
      "Epoch   68, sqrt loss 2.7e-05, Val NRMS 3.929e-05, Time Loss: 46.3%, data: 3.3%, val: 50.3%, 139.2 batches/sec\n"
     ]
    },
    {
     "name": "stdout",
     "output_type": "stream",
     "text": [
      "Epoch   69, sqrt loss 4.918e-05, Val NRMS 4.093e-05, Time Loss: 46.3%, data: 3.4%, val: 50.2%, 139.2 batches/sec\n",
      "Epoch   70, sqrt loss 3.317e-05, Val NRMS 1.008e-05, Time Loss: 46.3%, data: 3.4%, val: 50.2%, 139.1 batches/sec\n",
      "Epoch   71, sqrt loss 1.367e-05, Val NRMS 2.325e-05, Time Loss: 46.4%, data: 3.4%, val: 50.1%, 139.0 batches/sec\n",
      "Epoch   72, sqrt loss 3.376e-05, Val NRMS 3.156e-05, Time Loss: 46.3%, data: 3.4%, val: 50.1%, 138.5 batches/sec\n",
      "Epoch   73, sqrt loss 2.801e-05, Val NRMS 1.264e-05, Time Loss: 46.4%, data: 3.3%, val: 50.1%, 138.4 batches/sec\n",
      "Epoch   74, sqrt loss 8.679e-06, Val NRMS 1.344e-05, Time Loss: 46.3%, data: 3.3%, val: 50.2%, 138.3 batches/sec\n",
      "Epoch   75, sqrt loss 2.289e-05, Val NRMS 2.347e-05, Time Loss: 46.5%, data: 3.4%, val: 50.0%, 138.1 batches/sec\n",
      "Epoch   76, sqrt loss 2.216e-05, Val NRMS 1.184e-05, Time Loss: 46.5%, data: 3.4%, val: 50.0%, 138.1 batches/sec\n",
      "Epoch   77, sqrt loss 7.036e-06, Val NRMS 7.777e-06, Time Loss: 46.5%, data: 3.4%, val: 50.0%, 138.3 batches/sec\n",
      "Epoch   78, sqrt loss 1.559e-05, Val NRMS 1.715e-05, Time Loss: 46.4%, data: 3.4%, val: 50.0%, 138.0 batches/sec\n",
      "Epoch   79, sqrt loss 1.687e-05, Val NRMS 9.81e-06, Time Loss: 46.4%, data: 3.4%, val: 50.1%, 138.0 batches/sec\n",
      "Epoch   80, sqrt loss 5.794e-06, Val NRMS 4.821e-06, Time Loss: 46.4%, data: 3.4%, val: 50.1%, 138.1 batches/sec\n",
      "Epoch   81, sqrt loss 1.107e-05, Val NRMS 1.26e-05, Time Loss: 46.5%, data: 3.4%, val: 50.0%, 138.1 batches/sec\n",
      "Epoch   82, sqrt loss 1.259e-05, Val NRMS 7.383e-06, Time Loss: 46.4%, data: 3.4%, val: 50.0%, 138.1 batches/sec\n",
      "Epoch   83, sqrt loss 4.348e-06, Val NRMS 3.623e-06, Time Loss: 46.5%, data: 3.4%, val: 49.9%, 138.1 batches/sec\n",
      "Epoch   84, sqrt loss 8.249e-06, Val NRMS 9.28e-06, Time Loss: 46.6%, data: 3.4%, val: 49.9%, 138.3 batches/sec\n",
      "Epoch   85, sqrt loss 9.123e-06, Val NRMS 5.126e-06, Time Loss: 46.6%, data: 3.4%, val: 49.9%, 138.2 batches/sec\n",
      "Epoch   86, sqrt loss 3.065e-06, Val NRMS 3.229e-06, Time Loss: 46.5%, data: 3.4%, val: 50.0%, 138.2 batches/sec\n",
      "Epoch   87, sqrt loss 6.464e-06, Val NRMS 6.896e-06, Time Loss: 46.6%, data: 3.4%, val: 49.9%, 138.1 batches/sec\n",
      "Epoch   88, sqrt loss 6.411e-06, Val NRMS 3.14e-06, Time Loss: 46.5%, data: 3.3%, val: 50.0%, 137.9 batches/sec\n",
      "Epoch   89, sqrt loss 2.002e-06, Val NRMS 2.917e-06, Time Loss: 46.4%, data: 3.3%, val: 50.1%, 137.6 batches/sec\n",
      "Epoch   90, sqrt loss 5.001e-06, Val NRMS 5.037e-06, Time Loss: 46.4%, data: 3.3%, val: 50.1%, 137.7 batches/sec\n",
      "Epoch   91, sqrt loss 4.37e-06, Val NRMS 1.677e-06, Time Loss: 46.4%, data: 3.3%, val: 50.1%, 137.5 batches/sec\n",
      "Epoch   92, sqrt loss 1.716e-06, Val NRMS 2.829e-06, Time Loss: 46.4%, data: 3.3%, val: 50.2%, 137.5 batches/sec\n",
      "Epoch   93, sqrt loss 3.996e-06, Val NRMS 3.447e-06, Time Loss: 46.4%, data: 3.3%, val: 50.1%, 137.1 batches/sec\n",
      "Epoch   94, sqrt loss 2.621e-06, Val NRMS 3.169e-07, Time Loss: 46.4%, data: 3.3%, val: 50.2%, 137.2 batches/sec\n",
      "Epoch   95, sqrt loss 1.756e-06, Val NRMS 2.565e-06, Time Loss: 46.4%, data: 3.4%, val: 50.2%, 137.2 batches/sec\n",
      "Epoch   96, sqrt loss 3.052e-06, Val NRMS 2.122e-06, Time Loss: 46.5%, data: 3.3%, val: 50.0%, 136.8 batches/sec\n",
      "Epoch   97, sqrt loss 1.428e-06, Val NRMS 6.663e-07, Time Loss: 46.5%, data: 3.4%, val: 50.0%, 136.5 batches/sec\n",
      "Epoch   98, sqrt loss 1.919e-06, Val NRMS 2.211e-06, Time Loss: 46.5%, data: 3.4%, val: 50.0%, 136.6 batches/sec\n",
      "Epoch   99, sqrt loss 2.131e-06, Val NRMS 1.061e-06, Time Loss: 46.5%, data: 3.3%, val: 50.0%, 136.6 batches/sec\n",
      "Epoch  100, sqrt loss 6.932e-07, Val NRMS 9.722e-07, Time Loss: 46.5%, data: 3.3%, val: 50.1%, 136.5 batches/sec\n",
      "Loaded model with best known validation NRMS of 1.499e-07 which happened on epoch 67 (epoch_id=67.00)\n"
     ]
    }
   ],
   "source": [
    "fit_sys = deepSI.fit_systems.SS_encoder_general(nx=1, e_net=my_lin_encoder_net, e_net_kwargs=dict(b0=a_now*0.9),\\\n",
    "                                                f_net=my_state_net, f_net_kwargs=dict(a0=a_now*0.9),\\\n",
    "                                                h_net=my_output_net)\n",
    "fit_sys.parameters = fit_sys.init_nets(None,None)\n",
    "fit_sys.use_norm = False #the data should not be normalized\n",
    "fit_sys.fit(train,epochs=100,sim_val=val, loss_kwargs=dict(nf=25), optimizer_kwargs=dict(betas=(0.99,0.999))) #nf = T in the paper\n"
   ]
  },
  {
   "cell_type": "markdown",
   "id": "f383551c",
   "metadata": {},
   "source": [
    "### Results"
   ]
  },
  {
   "cell_type": "code",
   "execution_count": 29,
   "id": "2bcc34dc",
   "metadata": {},
   "outputs": [
    {
     "name": "stdout",
     "output_type": "stream",
     "text": [
      "a fitted: 0.5000000596046448  real a: 0.5\n",
      "b fitted: 0.5000050067901611  real b: 0.5\n"
     ]
    },
    {
     "data": {
      "image/png": "[encoded data removed]",
      "text/plain": [
       "<Figure size 432x288 with 1 Axes>"
      ]
     },
     "metadata": {
      "needs_background": "light"
     },
     "output_type": "display_data"
    },
    {
     "data": {
      "text/plain": [
       "1.0323630514245885e-07"
      ]
     },
     "execution_count": 29,
     "metadata": {},
     "output_type": "execute_result"
    }
   ],
   "source": [
    "print('a fitted:', fit_sys.fn.a.item(), ' real a:',a_now)\n",
    "print('b fitted:', fit_sys.encoder.b.item(), ' real b:',a_now)\n",
    "test_p = fit_sys.apply_experiment(test)\n",
    "test.plot()\n",
    "(test_p-test).plot()\n",
    "plt.show()\n",
    "test_p.NRMS(test) #1.0e-7"
   ]
  },
  {
   "cell_type": "markdown",
   "id": "9a980f86",
   "metadata": {},
   "source": [
    "# Nonlinear encoder"
   ]
  },
  {
   "cell_type": "code",
   "execution_count": 30,
   "id": "c38c7593",
   "metadata": {},
   "outputs": [
    {
     "name": "stdout",
     "output_type": "stream",
     "text": [
      "Size of the training array =  1.7 MB\n",
      "N_training_samples = 5599, batch_size = 256, N_batch_updates_per_epoch = 21\n",
      "Initial Validation NRMS= 0.07474437174340613\n"
     ]
    },
    {
     "data": {
      "application/vnd.jupyter.widget-view+json": {
       "model_id": "5f2e4b52b3a8406b9e5009e1c989acaa",
       "version_major": 2,
       "version_minor": 0
      },
      "text/plain": [
       "  0%|          | 0/100 [00:00<?, ?it/s]"
      ]
     },
     "metadata": {},
     "output_type": "display_data"
    },
    {
     "name": "stdout",
     "output_type": "stream",
     "text": [
      "########## New lowest validation loss achieved ########### NRMS = 0.04177938269970573\n",
      "Epoch    1, sqrt loss   0.208, Val NRMS 0.04178, Time Loss: 59.6%, data: 0.0%, val: 40.4%, 111.8 batches/sec\n",
      "########## New lowest validation loss achieved ########### NRMS = 0.02318095275648027\n",
      "Epoch    2, sqrt loss  0.1164, Val NRMS 0.02318, Time Loss: 57.2%, data: 1.6%, val: 41.2%, 127.0 batches/sec\n",
      "########## New lowest validation loss achieved ########### NRMS = 0.011119357157307172\n",
      "Epoch    3, sqrt loss  0.1265, Val NRMS 0.01112, Time Loss: 54.0%, data: 4.2%, val: 41.8%, 128.2 batches/sec\n",
      "Epoch    4, sqrt loss 0.07131, Val NRMS 0.01517, Time Loss: 54.1%, data: 3.6%, val: 42.3%, 128.8 batches/sec\n",
      "Epoch    5, sqrt loss 0.09237, Val NRMS 0.01848, Time Loss: 55.0%, data: 3.3%, val: 41.5%, 121.7 batches/sec\n",
      "Epoch    6, sqrt loss  0.1016, Val NRMS 0.01621, Time Loss: 55.4%, data: 3.0%, val: 41.5%, 118.2 batches/sec\n",
      "########## New lowest validation loss achieved ########### NRMS = 0.011093494824421546\n",
      "Epoch    7, sqrt loss 0.07509, Val NRMS 0.01109, Time Loss: 55.4%, data: 2.6%, val: 41.9%, 120.5 batches/sec\n",
      "########## New lowest validation loss achieved ########### NRMS = 0.008933328253342199\n",
      "Epoch    8, sqrt loss 0.05643, Val NRMS 0.008933, Time Loss: 55.2%, data: 2.4%, val: 42.4%, 122.4 batches/sec\n",
      "Epoch    9, sqrt loss 0.07087, Val NRMS 0.01105, Time Loss: 55.2%, data: 2.2%, val: 42.5%, 124.1 batches/sec\n",
      "Epoch   10, sqrt loss 0.07102, Val NRMS 0.01449, Time Loss: 54.7%, data: 2.0%, val: 43.2%, 121.1 batches/sec\n",
      "Epoch   11, sqrt loss 0.05659, Val NRMS 0.01544, Time Loss: 54.9%, data: 2.2%, val: 42.8%, 121.3 batches/sec\n",
      "Epoch   12, sqrt loss 0.05509, Val NRMS 0.01201, Time Loss: 54.7%, data: 2.3%, val: 42.9%, 120.5 batches/sec\n",
      "########## New lowest validation loss achieved ########### NRMS = 0.005264007219663578\n",
      "Epoch   13, sqrt loss 0.05907, Val NRMS 0.005264, Time Loss: 54.8%, data: 2.2%, val: 43.0%, 119.8 batches/sec\n",
      "########## New lowest validation loss achieved ########### NRMS = 0.004267918893336317\n",
      "Epoch   14, sqrt loss 0.05581, Val NRMS 0.004268, Time Loss: 54.5%, data: 2.1%, val: 43.3%, 120.2 batches/sec\n",
      "Epoch   15, sqrt loss 0.04793, Val NRMS 0.01077, Time Loss: 54.2%, data: 2.1%, val: 43.7%, 120.1 batches/sec\n",
      "Epoch   16, sqrt loss 0.04763, Val NRMS 0.01275, Time Loss: 53.9%, data: 2.1%, val: 44.0%, 119.7 batches/sec\n",
      "Epoch   17, sqrt loss 0.04947, Val NRMS 0.009963, Time Loss: 53.8%, data: 2.0%, val: 44.2%, 119.2 batches/sec\n",
      "Epoch   18, sqrt loss 0.04484, Val NRMS 0.005238, Time Loss: 53.8%, data: 2.2%, val: 43.9%, 119.8 batches/sec\n",
      "Epoch   19, sqrt loss 0.04109, Val NRMS 0.005671, Time Loss: 53.9%, data: 2.1%, val: 43.9%, 119.6 batches/sec\n",
      "Epoch   20, sqrt loss 0.04265, Val NRMS 0.007797, Time Loss: 54.1%, data: 2.1%, val: 43.8%, 119.2 batches/sec\n",
      "Epoch   21, sqrt loss 0.04157, Val NRMS 0.006999, Time Loss: 54.2%, data: 2.0%, val: 43.7%, 120.2 batches/sec\n",
      "Epoch   22, sqrt loss 0.03788, Val NRMS 0.004775, Time Loss: 53.9%, data: 2.2%, val: 43.8%, 119.8 batches/sec\n",
      "Epoch   23, sqrt loss 0.03712, Val NRMS 0.005158, Time Loss: 53.6%, data: 2.2%, val: 44.2%, 119.0 batches/sec\n",
      "Epoch   24, sqrt loss 0.03701, Val NRMS 0.005885, Time Loss: 53.4%, data: 2.2%, val: 44.3%, 118.4 batches/sec\n",
      "Epoch   25, sqrt loss 0.03468, Val NRMS 0.005045, Time Loss: 53.7%, data: 2.2%, val: 44.1%, 118.6 batches/sec\n",
      "########## New lowest validation loss achieved ########### NRMS = 0.003652833764600928\n",
      "Epoch   26, sqrt loss 0.03365, Val NRMS 0.003653, Time Loss: 53.7%, data: 2.2%, val: 44.0%, 119.2 batches/sec\n",
      "########## New lowest validation loss achieved ########### NRMS = 0.0024249428408597722\n",
      "Epoch   27, sqrt loss  0.0333, Val NRMS 0.002425, Time Loss: 53.2%, data: 2.1%, val: 44.6%, 118.9 batches/sec\n",
      "Epoch   28, sqrt loss 0.03142, Val NRMS 0.003486, Time Loss: 53.1%, data: 2.1%, val: 44.7%, 118.5 batches/sec\n",
      "Epoch   29, sqrt loss 0.03015, Val NRMS 0.004212, Time Loss: 53.1%, data: 2.0%, val: 44.7%, 117.9 batches/sec\n",
      "Epoch   30, sqrt loss 0.02998, Val NRMS 0.003789, Time Loss: 53.3%, data: 2.1%, val: 44.6%, 117.9 batches/sec\n",
      "Epoch   31, sqrt loss 0.02851, Val NRMS 0.002877, Time Loss: 53.5%, data: 2.0%, val: 44.4%, 118.3 batches/sec\n",
      "########## New lowest validation loss achieved ########### NRMS = 0.0023233341345973903\n",
      "Epoch   32, sqrt loss 0.02812, Val NRMS 0.002323, Time Loss: 53.5%, data: 2.0%, val: 44.4%, 118.7 batches/sec\n",
      "Epoch   33, sqrt loss 0.02691, Val NRMS 0.002991, Time Loss: 53.5%, data: 2.1%, val: 44.4%, 119.4 batches/sec\n",
      "Epoch   34, sqrt loss 0.02633, Val NRMS 0.003288, Time Loss: 53.7%, data: 2.1%, val: 44.2%, 119.5 batches/sec\n",
      "Epoch   35, sqrt loss 0.02551, Val NRMS 0.00319, Time Loss: 53.8%, data: 2.0%, val: 44.1%, 119.8 batches/sec\n",
      "Epoch   36, sqrt loss 0.02459, Val NRMS 0.002391, Time Loss: 53.7%, data: 2.0%, val: 44.1%, 119.9 batches/sec\n",
      "Epoch   37, sqrt loss 0.02407, Val NRMS 0.00253, Time Loss: 53.8%, data: 2.0%, val: 44.1%, 120.3 batches/sec\n",
      "Epoch   38, sqrt loss 0.02371, Val NRMS 0.002399, Time Loss: 54.0%, data: 2.0%, val: 43.9%, 120.4 batches/sec\n",
      "Epoch   39, sqrt loss 0.02305, Val NRMS 0.002523, Time Loss: 54.1%, data: 2.0%, val: 43.9%, 120.8 batches/sec\n",
      "Epoch   40, sqrt loss 0.02238, Val NRMS 0.002673, Time Loss: 54.0%, data: 2.0%, val: 44.0%, 120.8 batches/sec\n",
      "########## New lowest validation loss achieved ########### NRMS = 0.002104917847997458\n",
      "Epoch   41, sqrt loss  0.0217, Val NRMS 0.002105, Time Loss: 53.9%, data: 1.9%, val: 44.0%, 120.7 batches/sec\n",
      "########## New lowest validation loss achieved ########### NRMS = 0.002058802803210377\n",
      "Epoch   42, sqrt loss 0.02112, Val NRMS 0.002059, Time Loss: 54.1%, data: 1.9%, val: 44.0%, 120.7 batches/sec\n",
      "Epoch   43, sqrt loss 0.02049, Val NRMS 0.002155, Time Loss: 54.0%, data: 2.0%, val: 43.9%, 120.9 batches/sec\n",
      "Epoch   44, sqrt loss 0.01994, Val NRMS 0.002098, Time Loss: 54.0%, data: 2.0%, val: 43.9%, 121.2 batches/sec\n",
      "Epoch   45, sqrt loss 0.01963, Val NRMS 0.002255, Time Loss: 54.0%, data: 2.0%, val: 43.9%, 121.7 batches/sec\n",
      "########## New lowest validation loss achieved ########### NRMS = 0.0017775758001319255\n",
      "Epoch   46, sqrt loss 0.01902, Val NRMS 0.001778, Time Loss: 53.9%, data: 2.0%, val: 44.0%, 121.4 batches/sec\n",
      "########## New lowest validation loss achieved ########### NRMS = 0.0017634678658397472\n",
      "Epoch   47, sqrt loss 0.01827, Val NRMS 0.001763, Time Loss: 53.9%, data: 2.0%, val: 44.0%, 121.7 batches/sec\n",
      "Epoch   48, sqrt loss 0.01824, Val NRMS 0.001987, Time Loss: 54.0%, data: 2.0%, val: 44.0%, 122.2 batches/sec\n",
      "Epoch   49, sqrt loss 0.01761, Val NRMS 0.001907, Time Loss: 53.9%, data: 2.0%, val: 44.1%, 121.6 batches/sec\n",
      "########## New lowest validation loss achieved ########### NRMS = 0.0015388222357401403\n",
      "Epoch   50, sqrt loss 0.01693, Val NRMS 0.001539, Time Loss: 54.0%, data: 2.0%, val: 44.0%, 121.4 batches/sec\n",
      "Epoch   51, sqrt loss  0.0169, Val NRMS 0.001687, Time Loss: 53.9%, data: 2.0%, val: 44.1%, 121.7 batches/sec\n",
      "Epoch   52, sqrt loss 0.01629, Val NRMS 0.001756, Time Loss: 53.9%, data: 1.9%, val: 44.1%, 121.7 batches/sec\n",
      "########## New lowest validation loss achieved ########### NRMS = 0.0013630772758518748\n",
      "Epoch   53, sqrt loss 0.01591, Val NRMS 0.001363, Time Loss: 53.8%, data: 2.0%, val: 44.1%, 121.4 batches/sec\n",
      "Epoch   54, sqrt loss  0.0155, Val NRMS 0.001652, Time Loss: 53.7%, data: 2.0%, val: 44.2%, 121.2 batches/sec\n",
      "Epoch   55, sqrt loss 0.01494, Val NRMS 0.001394, Time Loss: 53.8%, data: 2.0%, val: 44.2%, 121.4 batches/sec\n",
      "Epoch   56, sqrt loss 0.01481, Val NRMS 0.001396, Time Loss: 53.7%, data: 2.1%, val: 44.1%, 121.6 batches/sec\n",
      "Epoch   57, sqrt loss 0.01444, Val NRMS 0.001367, Time Loss: 53.7%, data: 2.1%, val: 44.1%, 121.8 batches/sec\n",
      "########## New lowest validation loss achieved ########### NRMS = 0.001127173663071361\n",
      "Epoch   58, sqrt loss 0.01398, Val NRMS 0.001127, Time Loss: 53.6%, data: 2.1%, val: 44.2%, 122.0 batches/sec\n",
      "Epoch   59, sqrt loss 0.01333, Val NRMS 0.001326, Time Loss: 53.6%, data: 2.1%, val: 44.2%, 122.0 batches/sec\n",
      "Epoch   60, sqrt loss 0.01316, Val NRMS 0.001186, Time Loss: 53.6%, data: 2.1%, val: 44.2%, 122.2 batches/sec\n",
      "########## New lowest validation loss achieved ########### NRMS = 0.0010804101897665763\n",
      "Epoch   61, sqrt loss 0.01263, Val NRMS 0.00108, Time Loss: 53.6%, data: 2.1%, val: 44.1%, 122.1 batches/sec\n"
     ]
    },
    {
     "name": "stdout",
     "output_type": "stream",
     "text": [
      "Epoch   62, sqrt loss 0.01238, Val NRMS 0.001217, Time Loss: 53.7%, data: 2.1%, val: 44.1%, 122.2 batches/sec\n",
      "########## New lowest validation loss achieved ########### NRMS = 0.0009791382270745183\n",
      "Epoch   63, sqrt loss 0.01173, Val NRMS 0.0009791, Time Loss: 53.6%, data: 2.2%, val: 44.1%, 122.4 batches/sec\n",
      "########## New lowest validation loss achieved ########### NRMS = 0.0008947486411609095\n",
      "Epoch   64, sqrt loss 0.01157, Val NRMS 0.0008947, Time Loss: 53.7%, data: 2.1%, val: 44.1%, 122.5 batches/sec\n",
      "########## New lowest validation loss achieved ########### NRMS = 0.0008748128905689061\n",
      "Epoch   65, sqrt loss 0.01114, Val NRMS 0.0008748, Time Loss: 53.7%, data: 2.1%, val: 44.1%, 122.5 batches/sec\n",
      "Epoch   66, sqrt loss 0.01077, Val NRMS 0.001042, Time Loss: 53.7%, data: 2.1%, val: 44.1%, 122.8 batches/sec\n",
      "########## New lowest validation loss achieved ########### NRMS = 0.0008356508938842426\n",
      "Epoch   67, sqrt loss 0.01062, Val NRMS 0.0008357, Time Loss: 53.6%, data: 2.2%, val: 44.1%, 122.9 batches/sec\n",
      "########## New lowest validation loss achieved ########### NRMS = 0.0006921935231888564\n",
      "Epoch   68, sqrt loss 0.01022, Val NRMS 0.0006922, Time Loss: 53.7%, data: 2.2%, val: 44.1%, 122.8 batches/sec\n",
      "########## New lowest validation loss achieved ########### NRMS = 0.0005847686170153428\n",
      "Epoch   69, sqrt loss 0.009779, Val NRMS 0.0005848, Time Loss: 53.7%, data: 2.2%, val: 44.1%, 123.0 batches/sec\n",
      "Epoch   70, sqrt loss 0.009327, Val NRMS 0.0008745, Time Loss: 53.6%, data: 2.2%, val: 44.1%, 122.8 batches/sec\n",
      "Epoch   71, sqrt loss 0.009045, Val NRMS 0.0006473, Time Loss: 53.6%, data: 2.3%, val: 44.1%, 122.9 batches/sec\n",
      "########## New lowest validation loss achieved ########### NRMS = 0.0005582635057181989\n",
      "Epoch   72, sqrt loss 0.00897, Val NRMS 0.0005583, Time Loss: 53.6%, data: 2.2%, val: 44.1%, 123.2 batches/sec\n",
      "########## New lowest validation loss achieved ########### NRMS = 0.0004659769997955946\n",
      "Epoch   73, sqrt loss 0.008751, Val NRMS 0.000466, Time Loss: 53.6%, data: 2.3%, val: 44.1%, 123.3 batches/sec\n",
      "########## New lowest validation loss achieved ########### NRMS = 0.00040127458058200903\n",
      "Epoch   74, sqrt loss 0.008582, Val NRMS 0.0004013, Time Loss: 53.6%, data: 2.3%, val: 44.1%, 123.6 batches/sec\n",
      "Epoch   75, sqrt loss 0.008403, Val NRMS 0.0004515, Time Loss: 53.5%, data: 2.3%, val: 44.1%, 123.4 batches/sec\n",
      "########## New lowest validation loss achieved ########### NRMS = 0.0003788331514244576\n",
      "Epoch   76, sqrt loss 0.008096, Val NRMS 0.0003788, Time Loss: 53.5%, data: 2.3%, val: 44.1%, 123.3 batches/sec\n",
      "Epoch   77, sqrt loss 0.008011, Val NRMS 0.0004366, Time Loss: 53.5%, data: 2.3%, val: 44.1%, 123.5 batches/sec\n",
      "########## New lowest validation loss achieved ########### NRMS = 0.00027123888295683594\n",
      "Epoch   78, sqrt loss 0.007779, Val NRMS 0.0002712, Time Loss: 53.4%, data: 2.4%, val: 44.1%, 123.5 batches/sec\n",
      "Epoch   79, sqrt loss 0.007603, Val NRMS 0.0003199, Time Loss: 53.5%, data: 2.4%, val: 44.0%, 123.3 batches/sec\n",
      "########## New lowest validation loss achieved ########### NRMS = 0.0002526420787831402\n",
      "Epoch   80, sqrt loss 0.007582, Val NRMS 0.0002526, Time Loss: 53.5%, data: 2.4%, val: 44.0%, 123.3 batches/sec\n",
      "########## New lowest validation loss achieved ########### NRMS = 0.00014258561443311038\n",
      "Epoch   81, sqrt loss 0.007216, Val NRMS 0.0001426, Time Loss: 53.5%, data: 2.4%, val: 44.1%, 123.2 batches/sec\n",
      "Epoch   82, sqrt loss 0.00707, Val NRMS 0.0001844, Time Loss: 53.6%, data: 2.4%, val: 44.0%, 123.2 batches/sec\n",
      "Epoch   83, sqrt loss 0.007245, Val NRMS 0.0001548, Time Loss: 53.6%, data: 2.4%, val: 44.0%, 123.4 batches/sec\n",
      "Epoch   84, sqrt loss 0.006969, Val NRMS 0.0002095, Time Loss: 53.5%, data: 2.5%, val: 43.9%, 123.3 batches/sec\n",
      "Epoch   85, sqrt loss 0.006995, Val NRMS 0.0002227, Time Loss: 53.5%, data: 2.5%, val: 43.9%, 123.4 batches/sec\n",
      "########## New lowest validation loss achieved ########### NRMS = 0.00013934892295499484\n",
      "Epoch   86, sqrt loss 0.006965, Val NRMS 0.0001393, Time Loss: 53.5%, data: 2.5%, val: 44.0%, 123.5 batches/sec\n",
      "########## New lowest validation loss achieved ########### NRMS = 8.530504103283557e-06\n",
      "Epoch   87, sqrt loss 0.006688, Val NRMS 8.531e-06, Time Loss: 53.5%, data: 2.5%, val: 44.0%, 123.5 batches/sec\n",
      "Epoch   88, sqrt loss 0.00682, Val NRMS 0.0001746, Time Loss: 53.4%, data: 2.5%, val: 44.0%, 123.6 batches/sec\n",
      "Epoch   89, sqrt loss 0.006756, Val NRMS 7.659e-05, Time Loss: 53.4%, data: 2.5%, val: 44.0%, 123.8 batches/sec\n",
      "Epoch   90, sqrt loss 0.006653, Val NRMS 2.294e-05, Time Loss: 53.4%, data: 2.5%, val: 44.0%, 123.9 batches/sec\n",
      "Epoch   91, sqrt loss 0.006342, Val NRMS 4.692e-05, Time Loss: 53.4%, data: 2.5%, val: 44.0%, 124.0 batches/sec\n",
      "Epoch   92, sqrt loss 0.006491, Val NRMS 1.174e-05, Time Loss: 53.4%, data: 2.5%, val: 44.0%, 123.9 batches/sec\n",
      "Epoch   93, sqrt loss 0.006341, Val NRMS 4.192e-05, Time Loss: 53.4%, data: 2.5%, val: 44.1%, 124.0 batches/sec\n",
      "Epoch   94, sqrt loss 0.006245, Val NRMS 0.0001206, Time Loss: 53.4%, data: 2.5%, val: 44.0%, 124.0 batches/sec\n",
      "Epoch   95, sqrt loss 0.006225, Val NRMS 5.682e-05, Time Loss: 53.4%, data: 2.5%, val: 44.1%, 124.1 batches/sec\n",
      "Epoch   96, sqrt loss 0.006248, Val NRMS 0.0001186, Time Loss: 53.4%, data: 2.5%, val: 44.1%, 124.2 batches/sec\n",
      "Epoch   97, sqrt loss 0.00615, Val NRMS 0.0001586, Time Loss: 53.4%, data: 2.5%, val: 44.1%, 124.4 batches/sec\n",
      "Epoch   98, sqrt loss 0.006029, Val NRMS 7.078e-05, Time Loss: 53.4%, data: 2.5%, val: 44.1%, 124.5 batches/sec\n",
      "Epoch   99, sqrt loss 0.005965, Val NRMS 5.537e-05, Time Loss: 53.4%, data: 2.5%, val: 44.1%, 124.7 batches/sec\n",
      "Epoch  100, sqrt loss 0.005899, Val NRMS 0.0001099, Time Loss: 53.4%, data: 2.4%, val: 44.1%, 124.6 batches/sec\n",
      "Loaded model with best known validation NRMS of 8.531e-06 which happened on epoch 87 (epoch_id=87.00)\n"
     ]
    }
   ],
   "source": [
    "fit_sys = deepSI.fit_systems.SS_encoder_general(nx=1, na=2, nb=2,\\ #too high na and nb doesn't work well\n",
    "                                                e_net=my_encoder_net, e_net_kwargs=dict(),\\\n",
    "                                                f_net=my_state_net, f_net_kwargs=dict(a0=a_now*0.9),\\\n",
    "                                                h_net=my_output_net)\n",
    "fit_sys.parameters = fit_sys.init_nets(None,None)\n",
    "fit_sys.use_norm = False #the data should not be normalized\n",
    "fit_sys.fit(train,epochs=100,sim_val=val, loss_kwargs=dict(nf=25), optimizer_kwargs=dict(betas=(0.99,0.999))) #nf = T in the paper\n"
   ]
  },
  {
   "cell_type": "markdown",
   "id": "56fd88e2",
   "metadata": {},
   "source": [
    "## Results nonlinear encoder"
   ]
  },
  {
   "cell_type": "code",
   "execution_count": 34,
   "id": "9864d9f1",
   "metadata": {},
   "outputs": [
    {
     "name": "stdout",
     "output_type": "stream",
     "text": [
      "a fitted: 0.49999818205833435  real a: 0.5\n"
     ]
    },
    {
     "data": {
      "image/png": "[encoded data removed]",
      "text/plain": [
       "<Figure size 432x288 with 1 Axes>"
      ]
     },
     "metadata": {
      "needs_background": "light"
     },
     "output_type": "display_data"
    },
    {
     "name": "stdout",
     "output_type": "stream",
     "text": [
      "NRMS: 0.00047088984698618415\n"
     ]
    },
    {
     "data": {
      "image/png": "[encoded data removed]",
      "text/plain": [
       "<Figure size 432x288 with 1 Axes>"
      ]
     },
     "metadata": {
      "needs_background": "light"
     },
     "output_type": "display_data"
    }
   ],
   "source": [
    "print('a fitted:', fit_sys.fn.a.item(), ' real a:',a_now)\n",
    "test_p = fit_sys.apply_experiment(test)\n",
    "test.plot()\n",
    "(test_p-test).plot()\n",
    "plt.show()\n",
    "print('NRMS:',test_p.NRMS(test)) #1.0e-7\n",
    "plt.plot(fit_sys.n_step_error(test)) #encoder isn't perfect but it works\n",
    "plt.show()"
   ]
  },
  {
   "cell_type": "code",
   "execution_count": null,
   "id": "cadb67a1",
   "metadata": {},
   "outputs": [],
   "source": []
  }
 ],
 "metadata": {
  "kernelspec": {
   "display_name": "Python 3",
   "language": "python",
   "name": "python3"
  },
  "language_info": {
   "codemirror_mode": {
    "name": "ipython",
    "version": 3
   },
   "file_extension": ".py",
   "mimetype": "text/x-python",
   "name": "python",
   "nbconvert_exporter": "python",
   "pygments_lexer": "ipython3",
   "version": "3.8.8"
  }
 },
 "nbformat": 4,
 "nbformat_minor": 5
}
