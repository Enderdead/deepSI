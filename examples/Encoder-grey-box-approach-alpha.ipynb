{
 "cells": [
  {
   "cell_type": "code",
   "execution_count": 1,
   "id": "5d21ca33",
   "metadata": {},
   "outputs": [],
   "source": [
    "import deepSI\n",
    "import numpy as np\n",
    "from matplotlib import pyplot as plt\n",
    "import torch\n",
    "from torch import optim, nn\n",
    "from tqdm.auto import tqdm\n",
    "from deepSI import System_data, System_data_list"
   ]
  },
  {
   "cell_type": "markdown",
   "id": "4d7130df",
   "metadata": {},
   "source": [
    "## Data generation\n",
    "\n",
    "Creating some data for the system\n",
    "\n",
    "$$\n",
    "x_{t+1} = a x_t + u_t\\\\\n",
    "y_t = x_t\n",
    "$$\n",
    "\n",
    "with $a=0.5$"
   ]
  },
  {
   "cell_type": "code",
   "execution_count": 2,
   "id": "01f4b843",
   "metadata": {},
   "outputs": [
    {
     "name": "stdout",
     "output_type": "stream",
     "text": [
      "train:\t System_data of length: 5625 nu=None ny=None normed=False dt=None\n",
      "val:\t System_data of length: 1875 nu=None ny=None normed=False dt=None\n",
      "test:\t System_data of length: 2500 nu=None ny=None normed=False dt=None\n"
     ]
    }
   ],
   "source": [
    "class my_sys(deepSI.System_ss): #a simple state-space wrapper of the general System class\n",
    "    def __init__(self, a=0.5):\n",
    "        super(my_sys, self).__init__(nx=1)\n",
    "        self.a = a\n",
    "    \n",
    "    def f(self, x, u):\n",
    "        return self.a*x + u\n",
    "    \n",
    "    def h(self,x,u):\n",
    "        return x[0]\n",
    "\n",
    "a_now = 0.5\n",
    "sys = my_sys(a=a_now)\n",
    "data = sys.sample_system(N_sampes=10000) #uniform -1,1 \n",
    "train, test = data.train_test_split()\n",
    "train, val = train.train_test_split()\n",
    "print('train:\\t', train)\n",
    "print('val:\\t', val)\n",
    "print('test:\\t', test)"
   ]
  },
  {
   "cell_type": "markdown",
   "id": "d09de0e3",
   "metadata": {},
   "source": [
    "## Creating a custom encoder, $f_\\theta$, $g_\\theta$ for this sytem."
   ]
  },
  {
   "cell_type": "code",
   "execution_count": 3,
   "id": "04234b90",
   "metadata": {},
   "outputs": [],
   "source": [
    "class my_encoder_net(nn.Module): #a simple FC net with a residual (defaulth appraoch)\n",
    "    def __init__(self, nb, nu, na, ny, nx, n_nodes_per_layer=64, n_hidden_layers=2, activation=nn.Tanh):\n",
    "        super(my_encoder_net, self).__init__()\n",
    "        from deepSI.utils import simple_res_net\n",
    "        self.nu = tuple() if nu is None else ((nu,) if isinstance(nu,int) else nu)\n",
    "        self.ny = tuple() if ny is None else ((ny,) if isinstance(ny,int) else ny)\n",
    "        self.net = simple_res_net(n_in=nb*np.prod(self.nu,dtype=int) + na*np.prod(self.ny,dtype=int), \\\n",
    "            n_out=nx, n_nodes_per_layer=n_nodes_per_layer, n_hidden_layers=n_hidden_layers, activation=activation)\n",
    "\n",
    "    def forward(self, upast, ypast):\n",
    "        net_in = torch.cat([upast.view(upast.shape[0],-1),ypast.view(ypast.shape[0],-1)],axis=1)\n",
    "        return self.net(net_in)\n",
    "\n",
    "class my_lin_encoder_net(nn.Module): #linear encoder appraoch\n",
    "    def __init__(self, nb, nu, na, ny, nx, b0=0.5):\n",
    "        super(my_lin_encoder_net, self).__init__()\n",
    "        self.b = nn.Parameter(data=torch.as_tensor(b0))\n",
    "\n",
    "    def forward(self, upast, ypast):\n",
    "        #first dimention is always the batch dimension (Nb)\n",
    "        #upast shape: (Nb, nb)\n",
    "        #ypast shape: (Nb, na)\n",
    "        return (upast[:,-1] + self.b*ypast[:,-1])[:,None]\n",
    "\n",
    "class my_state_net(nn.Module): #\n",
    "    def __init__(self, nx, nu, a0=0.5):\n",
    "        super(my_state_net, self).__init__()\n",
    "        self.a = nn.Parameter(data=torch.as_tensor(a0))\n",
    "\n",
    "    def forward(self, x, u):\n",
    "        #first dimention is always the batch dimention\n",
    "        # x shape: (Nb, 1)\n",
    "        # u shape: (Nb)\n",
    "        return x*self.a + u[:,None]\n",
    "\n",
    "class my_output_net(nn.Module):\n",
    "    def __init__(self, nx, ny):\n",
    "        super(my_output_net, self).__init__()\n",
    "\n",
    "    def forward(self, x, u=None):\n",
    "        #first dimention is always the batch dimention\n",
    "        return x[:,0] #(Nb,nx)"
   ]
  },
  {
   "cell_type": "markdown",
   "id": "91cfa124",
   "metadata": {},
   "source": [
    "## test if this setup can reproduce the data"
   ]
  },
  {
   "cell_type": "code",
   "execution_count": 4,
   "id": "116bd452",
   "metadata": {},
   "outputs": [
    {
     "data": {
      "image/png": "[encoded data removed]",
      "text/plain": [
       "<Figure size 432x288 with 1 Axes>"
      ]
     },
     "metadata": {
      "needs_background": "light"
     },
     "output_type": "display_data"
    },
    {
     "data": {
      "text/plain": [
       "3.1389216516923886e-08"
      ]
     },
     "execution_count": 4,
     "metadata": {},
     "output_type": "execute_result"
    }
   ],
   "source": [
    "\n",
    "fit_sys = deepSI.fit_systems.SS_encoder_general(nx=1, na=1, nb=1, \\\n",
    "                                                e_net=my_lin_encoder_net, e_net_kwargs=dict(b0=a_now),\\\n",
    "                                                f_net=my_state_net, f_net_kwargs=dict(a0=a_now),\\\n",
    "                                                h_net=my_output_net)\n",
    "fit_sys.init_model(nu=None, ny=None) #init the network callaed as e_net(**e_net_kwargs) \n",
    "test_p = fit_sys.apply_experiment(test)\n",
    "test.plot()\n",
    "(test_p-test).plot()\n",
    "plt.show()\n",
    "test_p.NRMS(test) #3.2e-8"
   ]
  },
  {
   "cell_type": "markdown",
   "id": "d28bfb46",
   "metadata": {},
   "source": [
    "# Fitting with linear encoder"
   ]
  },
  {
   "cell_type": "code",
   "execution_count": 5,
   "id": "e3ab6e3c",
   "metadata": {
    "scrolled": true
   },
   "outputs": [
    {
     "name": "stdout",
     "output_type": "stream",
     "text": [
      "Model already initilized (init_model_done=True), skipping initilizing of the model, the norm and the creation of the optimizer\n",
      "Size of the training array =  2.9 MB\n",
      "N_training_samples = 5581, batch_size = 256, N_batch_updates_per_epoch = 21\n",
      "Initial Validation sim-NRMS= 0.07007669915812052\n"
     ]
    },
    {
     "data": {
      "application/vnd.jupyter.widget-view+json": {
       "model_id": "bed5f7c1252d49909bcd9e3338586aad",
       "version_major": 2,
       "version_minor": 0
      },
      "text/plain": [
       "  0%|          | 0/100 [00:00<?, ?it/s]"
      ]
     },
     "metadata": {},
     "output_type": "display_data"
    },
    {
     "name": "stdout",
     "output_type": "stream",
     "text": [
      "########## New lowest validation loss achieved ########### sim-NRMS = 0.04237204267695391\n",
      "Epoch    1, sqrt loss 0.06308, Val sim-NRMS 0.04237, Time Loss: 60.3%, data: 3.8%, val: 35.9%, 123.9 batches/sec\n",
      "########## New lowest validation loss achieved ########### sim-NRMS = 0.018828062131723576\n",
      "Epoch    2, sqrt loss 0.03449, Val sim-NRMS 0.01883, Time Loss: 55.8%, data: 2.6%, val: 41.6%, 148.3 batches/sec\n",
      "########## New lowest validation loss achieved ########### sim-NRMS = 0.0045102974963951254\n",
      "Epoch    3, sqrt loss  0.0131, Val sim-NRMS 0.00451, Time Loss: 53.0%, data: 2.9%, val: 44.1%, 158.3 batches/sec\n",
      "########## New lowest validation loss achieved ########### sim-NRMS = 0.0004869272207263055\n",
      "Epoch    4, sqrt loss 0.00235, Val sim-NRMS 0.0004869, Time Loss: 51.5%, data: 3.4%, val: 45.1%, 163.9 batches/sec\n",
      "Epoch    5, sqrt loss 0.0008511, Val sim-NRMS 0.0006931, Time Loss: 51.2%, data: 3.0%, val: 45.8%, 167.9 batches/sec\n",
      "########## New lowest validation loss achieved ########### sim-NRMS = 0.00011362937115582483\n",
      "Epoch    6, sqrt loss 0.0004715, Val sim-NRMS 0.0001136, Time Loss: 50.3%, data: 3.5%, val: 46.2%, 170.3 batches/sec\n",
      "########## New lowest validation loss achieved ########### sim-NRMS = 5.9263616002160175e-05\n",
      "Epoch    7, sqrt loss 5.826e-05, Val sim-NRMS 5.926e-05, Time Loss: 49.8%, data: 3.6%, val: 46.6%, 172.4 batches/sec\n",
      "########## New lowest validation loss achieved ########### sim-NRMS = 2.022866071334795e-05\n",
      "Epoch    8, sqrt loss 5.051e-05, Val sim-NRMS 2.023e-05, Time Loss: 49.6%, data: 3.5%, val: 46.9%, 174.0 batches/sec\n",
      "########## New lowest validation loss achieved ########### sim-NRMS = 5.298200727583196e-06\n",
      "Epoch    9, sqrt loss 9.867e-06, Val sim-NRMS 5.298e-06, Time Loss: 49.5%, data: 3.3%, val: 47.2%, 175.6 batches/sec\n",
      "########## New lowest validation loss achieved ########### sim-NRMS = 2.2953549620447144e-06\n",
      "Epoch   10, sqrt loss 5.232e-06, Val sim-NRMS 2.295e-06, Time Loss: 49.0%, data: 3.4%, val: 47.5%, 176.6 batches/sec\n",
      "########## New lowest validation loss achieved ########### sim-NRMS = 6.643560562054948e-07\n",
      "Epoch   11, sqrt loss 1.107e-06, Val sim-NRMS 6.644e-07, Time Loss: 49.0%, data: 3.3%, val: 47.7%, 177.7 batches/sec\n",
      "########## New lowest validation loss achieved ########### sim-NRMS = 8.994900840993885e-08\n",
      "Epoch   12, sqrt loss 5.823e-07, Val sim-NRMS 8.995e-08, Time Loss: 49.0%, data: 3.0%, val: 47.9%, 178.7 batches/sec\n",
      "########## New lowest validation loss achieved ########### sim-NRMS = 3.27493431093582e-08\n",
      "Epoch   13, sqrt loss 4.978e-08, Val sim-NRMS 3.275e-08, Time Loss: 49.0%, data: 2.8%, val: 48.1%, 177.8 batches/sec\n",
      "Epoch   14, sqrt loss 4.211e-08, Val sim-NRMS 3.275e-08, Time Loss: 48.9%, data: 3.3%, val: 47.8%, 175.3 batches/sec\n",
      "Epoch   15, sqrt loss 4.21e-08, Val sim-NRMS 3.275e-08, Time Loss: 49.1%, data: 3.2%, val: 47.7%, 175.2 batches/sec\n",
      "Epoch   16, sqrt loss 4.213e-08, Val sim-NRMS 3.275e-08, Time Loss: 49.0%, data: 3.2%, val: 47.7%, 175.5 batches/sec\n",
      "Epoch   17, sqrt loss 4.209e-08, Val sim-NRMS 3.275e-08, Time Loss: 49.0%, data: 3.1%, val: 47.8%, 175.5 batches/sec\n",
      "Epoch   18, sqrt loss 4.21e-08, Val sim-NRMS 3.275e-08, Time Loss: 49.0%, data: 3.1%, val: 47.7%, 175.0 batches/sec\n",
      "Epoch   19, sqrt loss 4.209e-08, Val sim-NRMS 3.275e-08, Time Loss: 49.0%, data: 3.1%, val: 47.8%, 175.3 batches/sec\n",
      "Epoch   20, sqrt loss 4.216e-08, Val sim-NRMS 3.275e-08, Time Loss: 48.9%, data: 3.1%, val: 47.9%, 175.6 batches/sec\n",
      "Epoch   21, sqrt loss 4.211e-08, Val sim-NRMS 3.275e-08, Time Loss: 48.8%, data: 3.1%, val: 48.0%, 176.1 batches/sec\n",
      "Epoch   22, sqrt loss 4.204e-08, Val sim-NRMS 3.275e-08, Time Loss: 48.7%, data: 3.1%, val: 48.0%, 176.7 batches/sec\n",
      "Epoch   23, sqrt loss 4.213e-08, Val sim-NRMS 3.275e-08, Time Loss: 48.6%, data: 3.2%, val: 48.1%, 177.1 batches/sec\n",
      "Epoch   24, sqrt loss 4.206e-08, Val sim-NRMS 3.275e-08, Time Loss: 48.6%, data: 3.1%, val: 48.1%, 177.6 batches/sec\n",
      "Epoch   25, sqrt loss 4.211e-08, Val sim-NRMS 3.275e-08, Time Loss: 48.5%, data: 3.2%, val: 48.1%, 177.8 batches/sec\n",
      "Epoch   26, sqrt loss 4.202e-08, Val sim-NRMS 3.275e-08, Time Loss: 48.4%, data: 3.2%, val: 48.3%, 178.1 batches/sec\n",
      "Epoch   27, sqrt loss 4.213e-08, Val sim-NRMS 3.275e-08, Time Loss: 48.4%, data: 3.2%, val: 48.2%, 177.8 batches/sec\n",
      "Epoch   28, sqrt loss 4.225e-08, Val sim-NRMS 3.275e-08, Time Loss: 48.4%, data: 3.2%, val: 48.3%, 178.2 batches/sec\n",
      "Epoch   29, sqrt loss 4.212e-08, Val sim-NRMS 3.275e-08, Time Loss: 48.3%, data: 3.2%, val: 48.3%, 178.5 batches/sec\n",
      "Epoch   30, sqrt loss 4.207e-08, Val sim-NRMS 3.275e-08, Time Loss: 48.2%, data: 3.2%, val: 48.4%, 178.8 batches/sec\n",
      "Epoch   31, sqrt loss 4.207e-08, Val sim-NRMS 3.275e-08, Time Loss: 48.1%, data: 3.3%, val: 48.4%, 179.1 batches/sec\n",
      "Epoch   32, sqrt loss 4.212e-08, Val sim-NRMS 3.275e-08, Time Loss: 48.2%, data: 3.2%, val: 48.4%, 179.4 batches/sec\n",
      "Epoch   33, sqrt loss 4.216e-08, Val sim-NRMS 3.275e-08, Time Loss: 48.2%, data: 3.2%, val: 48.5%, 179.6 batches/sec\n",
      "Epoch   34, sqrt loss 4.214e-08, Val sim-NRMS 3.275e-08, Time Loss: 48.1%, data: 3.2%, val: 48.4%, 179.5 batches/sec\n",
      "Epoch   35, sqrt loss 4.213e-08, Val sim-NRMS 3.275e-08, Time Loss: 48.2%, data: 3.2%, val: 48.4%, 179.7 batches/sec\n",
      "Epoch   36, sqrt loss 4.215e-08, Val sim-NRMS 3.275e-08, Time Loss: 48.1%, data: 3.3%, val: 48.4%, 179.9 batches/sec\n",
      "Epoch   37, sqrt loss 4.21e-08, Val sim-NRMS 3.275e-08, Time Loss: 48.1%, data: 3.3%, val: 48.5%, 180.1 batches/sec\n",
      "Epoch   38, sqrt loss 4.208e-08, Val sim-NRMS 3.275e-08, Time Loss: 48.0%, data: 3.3%, val: 48.5%, 180.3 batches/sec\n",
      "Epoch   39, sqrt loss 4.207e-08, Val sim-NRMS 3.275e-08, Time Loss: 48.0%, data: 3.3%, val: 48.5%, 180.4 batches/sec\n",
      "Epoch   40, sqrt loss 4.213e-08, Val sim-NRMS 3.275e-08, Time Loss: 48.0%, data: 3.2%, val: 48.5%, 180.6 batches/sec\n",
      "Epoch   41, sqrt loss 4.204e-08, Val sim-NRMS 3.275e-08, Time Loss: 48.0%, data: 3.2%, val: 48.6%, 180.8 batches/sec\n",
      "Epoch   42, sqrt loss 4.21e-08, Val sim-NRMS 3.275e-08, Time Loss: 47.9%, data: 3.3%, val: 48.6%, 180.9 batches/sec\n",
      "Epoch   43, sqrt loss 4.218e-08, Val sim-NRMS 3.275e-08, Time Loss: 47.9%, data: 3.3%, val: 48.6%, 180.8 batches/sec\n",
      "Epoch   44, sqrt loss 4.208e-08, Val sim-NRMS 3.275e-08, Time Loss: 47.9%, data: 3.3%, val: 48.6%, 180.9 batches/sec\n",
      "Epoch   45, sqrt loss 4.21e-08, Val sim-NRMS 3.275e-08, Time Loss: 47.9%, data: 3.3%, val: 48.6%, 181.0 batches/sec\n",
      "Epoch   46, sqrt loss 4.212e-08, Val sim-NRMS 3.275e-08, Time Loss: 47.9%, data: 3.2%, val: 48.6%, 181.1 batches/sec\n",
      "Epoch   47, sqrt loss 4.211e-08, Val sim-NRMS 3.275e-08, Time Loss: 47.9%, data: 3.3%, val: 48.6%, 181.3 batches/sec\n",
      "Epoch   48, sqrt loss 4.21e-08, Val sim-NRMS 3.275e-08, Time Loss: 47.9%, data: 3.3%, val: 48.6%, 181.4 batches/sec\n",
      "Epoch   49, sqrt loss 4.213e-08, Val sim-NRMS 3.275e-08, Time Loss: 47.9%, data: 3.3%, val: 48.6%, 181.5 batches/sec\n",
      "Epoch   50, sqrt loss 4.202e-08, Val sim-NRMS 3.275e-08, Time Loss: 47.9%, data: 3.2%, val: 48.7%, 181.7 batches/sec\n",
      "Epoch   51, sqrt loss 4.207e-08, Val sim-NRMS 3.275e-08, Time Loss: 47.8%, data: 3.3%, val: 48.7%, 181.8 batches/sec\n",
      "Epoch   52, sqrt loss 4.206e-08, Val sim-NRMS 3.275e-08, Time Loss: 47.9%, data: 3.2%, val: 48.7%, 181.8 batches/sec\n",
      "Epoch   53, sqrt loss 4.21e-08, Val sim-NRMS 3.275e-08, Time Loss: 47.8%, data: 3.3%, val: 48.7%, 181.9 batches/sec\n",
      "Epoch   54, sqrt loss 4.207e-08, Val sim-NRMS 3.275e-08, Time Loss: 47.8%, data: 3.2%, val: 48.7%, 182.0 batches/sec\n",
      "Epoch   55, sqrt loss 4.206e-08, Val sim-NRMS 3.275e-08, Time Loss: 47.8%, data: 3.2%, val: 48.7%, 182.1 batches/sec\n",
      "Epoch   56, sqrt loss 4.217e-08, Val sim-NRMS 3.275e-08, Time Loss: 47.8%, data: 3.2%, val: 48.7%, 182.1 batches/sec\n",
      "Epoch   57, sqrt loss 4.211e-08, Val sim-NRMS 3.275e-08, Time Loss: 47.8%, data: 3.2%, val: 48.7%, 182.2 batches/sec\n",
      "Epoch   58, sqrt loss 4.21e-08, Val sim-NRMS 3.275e-08, Time Loss: 47.8%, data: 3.2%, val: 48.8%, 182.4 batches/sec\n",
      "Epoch   59, sqrt loss 4.21e-08, Val sim-NRMS 3.275e-08, Time Loss: 47.8%, data: 3.3%, val: 48.8%, 182.4 batches/sec\n",
      "Epoch   60, sqrt loss 4.21e-08, Val sim-NRMS 3.275e-08, Time Loss: 47.8%, data: 3.2%, val: 48.8%, 182.5 batches/sec\n",
      "Epoch   61, sqrt loss 4.202e-08, Val sim-NRMS 3.275e-08, Time Loss: 47.8%, data: 3.2%, val: 48.8%, 182.6 batches/sec\n",
      "Epoch   62, sqrt loss 4.216e-08, Val sim-NRMS 3.275e-08, Time Loss: 47.8%, data: 3.2%, val: 48.8%, 182.7 batches/sec\n"
     ]
    },
    {
     "name": "stdout",
     "output_type": "stream",
     "text": [
      "Epoch   63, sqrt loss 4.204e-08, Val sim-NRMS 3.275e-08, Time Loss: 47.8%, data: 3.2%, val: 48.8%, 182.8 batches/sec\n",
      "Epoch   64, sqrt loss 4.202e-08, Val sim-NRMS 3.275e-08, Time Loss: 47.8%, data: 3.2%, val: 48.8%, 182.8 batches/sec\n",
      "Epoch   65, sqrt loss 4.206e-08, Val sim-NRMS 3.275e-08, Time Loss: 47.7%, data: 3.2%, val: 48.8%, 182.9 batches/sec\n",
      "Epoch   66, sqrt loss 4.212e-08, Val sim-NRMS 3.275e-08, Time Loss: 47.8%, data: 3.2%, val: 48.8%, 183.0 batches/sec\n",
      "Epoch   67, sqrt loss 4.199e-08, Val sim-NRMS 3.275e-08, Time Loss: 47.4%, data: 3.9%, val: 48.5%, 181.6 batches/sec\n",
      "Epoch   68, sqrt loss 4.213e-08, Val sim-NRMS 3.275e-08, Time Loss: 47.4%, data: 3.9%, val: 48.5%, 181.7 batches/sec\n",
      "Epoch   69, sqrt loss 4.214e-08, Val sim-NRMS 3.275e-08, Time Loss: 47.4%, data: 3.9%, val: 48.5%, 181.8 batches/sec\n",
      "Epoch   70, sqrt loss 4.211e-08, Val sim-NRMS 3.275e-08, Time Loss: 47.4%, data: 3.9%, val: 48.5%, 181.9 batches/sec\n",
      "Epoch   71, sqrt loss 4.211e-08, Val sim-NRMS 3.275e-08, Time Loss: 47.4%, data: 3.8%, val: 48.5%, 181.9 batches/sec\n",
      "Epoch   72, sqrt loss 4.208e-08, Val sim-NRMS 3.275e-08, Time Loss: 47.4%, data: 3.8%, val: 48.6%, 181.8 batches/sec\n",
      "Epoch   73, sqrt loss 4.218e-08, Val sim-NRMS 3.275e-08, Time Loss: 47.4%, data: 3.8%, val: 48.5%, 181.6 batches/sec\n",
      "Epoch   74, sqrt loss 4.211e-08, Val sim-NRMS 3.275e-08, Time Loss: 47.4%, data: 3.8%, val: 48.5%, 181.7 batches/sec\n",
      "Epoch   75, sqrt loss 4.229e-08, Val sim-NRMS 3.275e-08, Time Loss: 47.3%, data: 3.8%, val: 48.6%, 181.7 batches/sec\n",
      "Epoch   76, sqrt loss 4.218e-08, Val sim-NRMS 3.275e-08, Time Loss: 47.4%, data: 3.8%, val: 48.6%, 181.8 batches/sec\n",
      "Epoch   77, sqrt loss 4.212e-08, Val sim-NRMS 3.275e-08, Time Loss: 47.4%, data: 3.8%, val: 48.6%, 181.9 batches/sec\n",
      "Epoch   78, sqrt loss 4.21e-08, Val sim-NRMS 3.275e-08, Time Loss: 47.4%, data: 3.8%, val: 48.6%, 181.9 batches/sec\n",
      "Epoch   79, sqrt loss 4.205e-08, Val sim-NRMS 3.275e-08, Time Loss: 47.4%, data: 3.8%, val: 48.6%, 182.0 batches/sec\n",
      "Epoch   80, sqrt loss 4.213e-08, Val sim-NRMS 3.275e-08, Time Loss: 47.4%, data: 3.8%, val: 48.6%, 182.1 batches/sec\n",
      "Epoch   81, sqrt loss 4.223e-08, Val sim-NRMS 3.275e-08, Time Loss: 47.4%, data: 3.8%, val: 48.6%, 182.1 batches/sec\n",
      "Epoch   82, sqrt loss 4.208e-08, Val sim-NRMS 3.275e-08, Time Loss: 47.4%, data: 3.8%, val: 48.6%, 182.2 batches/sec\n",
      "Epoch   83, sqrt loss 4.208e-08, Val sim-NRMS 3.275e-08, Time Loss: 47.4%, data: 3.8%, val: 48.6%, 182.2 batches/sec\n",
      "Epoch   84, sqrt loss 4.21e-08, Val sim-NRMS 3.275e-08, Time Loss: 47.4%, data: 3.7%, val: 48.6%, 182.2 batches/sec\n",
      "Epoch   85, sqrt loss 4.208e-08, Val sim-NRMS 3.275e-08, Time Loss: 47.4%, data: 3.7%, val: 48.7%, 182.3 batches/sec\n",
      "Epoch   86, sqrt loss 4.213e-08, Val sim-NRMS 3.275e-08, Time Loss: 47.4%, data: 3.7%, val: 48.7%, 182.4 batches/sec\n",
      "Epoch   87, sqrt loss 4.206e-08, Val sim-NRMS 3.275e-08, Time Loss: 47.4%, data: 3.7%, val: 48.7%, 182.4 batches/sec\n",
      "Epoch   88, sqrt loss 4.207e-08, Val sim-NRMS 3.275e-08, Time Loss: 47.4%, data: 3.7%, val: 48.7%, 182.4 batches/sec\n",
      "Epoch   89, sqrt loss 4.209e-08, Val sim-NRMS 3.275e-08, Time Loss: 47.4%, data: 3.7%, val: 48.7%, 182.5 batches/sec\n",
      "Epoch   90, sqrt loss 4.209e-08, Val sim-NRMS 3.275e-08, Time Loss: 47.4%, data: 3.7%, val: 48.7%, 182.5 batches/sec\n",
      "Epoch   91, sqrt loss 4.219e-08, Val sim-NRMS 3.275e-08, Time Loss: 47.4%, data: 3.6%, val: 48.7%, 182.6 batches/sec\n",
      "Epoch   92, sqrt loss 4.206e-08, Val sim-NRMS 3.275e-08, Time Loss: 47.4%, data: 3.6%, val: 48.7%, 182.6 batches/sec\n",
      "Epoch   93, sqrt loss 4.21e-08, Val sim-NRMS 3.275e-08, Time Loss: 47.4%, data: 3.6%, val: 48.7%, 182.7 batches/sec\n",
      "Epoch   94, sqrt loss 4.213e-08, Val sim-NRMS 3.275e-08, Time Loss: 47.4%, data: 3.6%, val: 48.7%, 182.7 batches/sec\n",
      "Epoch   95, sqrt loss 4.209e-08, Val sim-NRMS 3.275e-08, Time Loss: 47.4%, data: 3.6%, val: 48.7%, 182.7 batches/sec\n",
      "Epoch   96, sqrt loss 4.207e-08, Val sim-NRMS 3.275e-08, Time Loss: 47.4%, data: 3.6%, val: 48.7%, 182.8 batches/sec\n",
      "Epoch   97, sqrt loss 4.213e-08, Val sim-NRMS 3.275e-08, Time Loss: 47.4%, data: 3.6%, val: 48.8%, 182.8 batches/sec\n",
      "Epoch   98, sqrt loss 4.215e-08, Val sim-NRMS 3.275e-08, Time Loss: 47.4%, data: 3.6%, val: 48.8%, 182.9 batches/sec\n",
      "Epoch   99, sqrt loss 4.225e-08, Val sim-NRMS 3.275e-08, Time Loss: 47.4%, data: 3.6%, val: 48.8%, 182.9 batches/sec\n",
      "Epoch  100, sqrt loss 4.207e-08, Val sim-NRMS 3.275e-08, Time Loss: 47.4%, data: 3.6%, val: 48.8%, 182.9 batches/sec\n",
      "Loaded model with best known validation sim-NRMS of 3.275e-08 which happened on epoch 13 (epoch_id=100.00)\n"
     ]
    }
   ],
   "source": [
    "fit_sys = deepSI.fit_systems.SS_encoder_general(nx=1, e_net=my_lin_encoder_net, e_net_kwargs=dict(b0=a_now*0.9),\\\n",
    "                                                f_net=my_state_net, f_net_kwargs=dict(a0=a_now*0.9),\\\n",
    "                                                h_net=my_output_net)\n",
    "fit_sys.init_model(nu=None,ny=None)\n",
    "fit_sys.fit(train,val, epochs=100, loss_kwargs=dict(nf=25), auto_fit_norm=False, optimizer_kwargs=dict(betas=(0.99,0.999))) #nf = T in the paper\n"
   ]
  },
  {
   "cell_type": "markdown",
   "id": "f383551c",
   "metadata": {},
   "source": [
    "### Results"
   ]
  },
  {
   "cell_type": "code",
   "execution_count": 6,
   "id": "2bcc34dc",
   "metadata": {},
   "outputs": [
    {
     "name": "stdout",
     "output_type": "stream",
     "text": [
      "a fitted: 0.5  real a: 0.5\n",
      "b fitted: 0.4999999701976776  real b: 0.5\n"
     ]
    },
    {
     "data": {
      "image/png": "[encoded data removed]",
      "text/plain": [
       "<Figure size 432x288 with 1 Axes>"
      ]
     },
     "metadata": {
      "needs_background": "light"
     },
     "output_type": "display_data"
    },
    {
     "name": "stdout",
     "output_type": "stream",
     "text": [
      "NRMS= 3.1423845272688305e-08\n"
     ]
    }
   ],
   "source": [
    "print('a fitted:', fit_sys.fn.a.item(), ' real a:',a_now)\n",
    "print('b fitted:', fit_sys.encoder.b.item(), ' real b:',a_now)\n",
    "test_p = fit_sys.apply_experiment(test)\n",
    "test.plot()\n",
    "(test_p-test).plot()\n",
    "plt.show()\n",
    "print('NRMS=',test_p.NRMS(test)) #1.0e-7"
   ]
  },
  {
   "cell_type": "markdown",
   "id": "9a980f86",
   "metadata": {},
   "source": [
    "# Nonlinear encoder"
   ]
  },
  {
   "cell_type": "code",
   "execution_count": 7,
   "id": "c38c7593",
   "metadata": {},
   "outputs": [
    {
     "name": "stdout",
     "output_type": "stream",
     "text": [
      "Model already initilized (init_model_done=True), skipping initilizing of the model, the norm and the creation of the optimizer\n",
      "Size of the training array =  1.7 MB\n",
      "N_training_samples = 5599, batch_size = 256, N_batch_updates_per_epoch = 21\n",
      "Initial Validation sim-NRMS= 0.09902142478713301\n"
     ]
    },
    {
     "data": {
      "application/vnd.jupyter.widget-view+json": {
       "model_id": "ba69bda418714e8b9c4b047287555740",
       "version_major": 2,
       "version_minor": 0
      },
      "text/plain": [
       "  0%|          | 0/100 [00:00<?, ?it/s]"
      ]
     },
     "metadata": {},
     "output_type": "display_data"
    },
    {
     "name": "stdout",
     "output_type": "stream",
     "text": [
      "########## New lowest validation loss achieved ########### sim-NRMS = 0.04365238507031458\n",
      "Epoch    1, sqrt loss  0.2406, Val sim-NRMS 0.04365, Time Loss: 52.5%, data: 3.8%, val: 43.7%, 146.7 batches/sec\n",
      "########## New lowest validation loss achieved ########### sim-NRMS = 0.01877681140834024\n",
      "Epoch    2, sqrt loss  0.0734, Val sim-NRMS 0.01878, Time Loss: 53.4%, data: 3.1%, val: 43.5%, 153.9 batches/sec\n",
      "########## New lowest validation loss achieved ########### sim-NRMS = 0.005284886420754603\n",
      "Epoch    3, sqrt loss  0.0546, Val sim-NRMS 0.005285, Time Loss: 53.0%, data: 2.8%, val: 44.1%, 156.8 batches/sec\n",
      "########## New lowest validation loss achieved ########### sim-NRMS = 0.0007578687232293115\n",
      "Epoch    4, sqrt loss 0.04919, Val sim-NRMS 0.0007579, Time Loss: 52.7%, data: 3.0%, val: 44.3%, 159.2 batches/sec\n",
      "Epoch    5, sqrt loss 0.04717, Val sim-NRMS 0.0009883, Time Loss: 52.9%, data: 3.1%, val: 44.1%, 160.3 batches/sec\n",
      "Epoch    6, sqrt loss 0.04536, Val sim-NRMS 0.0009422, Time Loss: 52.7%, data: 3.2%, val: 44.1%, 161.5 batches/sec\n",
      "########## New lowest validation loss achieved ########### sim-NRMS = 0.0006557390064723458\n",
      "Epoch    7, sqrt loss 0.04335, Val sim-NRMS 0.0006557, Time Loss: 52.6%, data: 3.1%, val: 44.3%, 161.9 batches/sec\n",
      "Epoch    8, sqrt loss  0.0416, Val sim-NRMS 0.0009162, Time Loss: 52.7%, data: 3.2%, val: 44.1%, 161.6 batches/sec\n",
      "########## New lowest validation loss achieved ########### sim-NRMS = 0.0006350365695834084\n",
      "Epoch    9, sqrt loss 0.04005, Val sim-NRMS 0.000635, Time Loss: 53.0%, data: 2.9%, val: 44.1%, 161.4 batches/sec\n",
      "Epoch   10, sqrt loss 0.03845, Val sim-NRMS 0.0008984, Time Loss: 53.1%, data: 2.7%, val: 44.2%, 160.8 batches/sec\n",
      "########## New lowest validation loss achieved ########### sim-NRMS = 0.00038714159230933317\n",
      "Epoch   11, sqrt loss 0.03746, Val sim-NRMS 0.0003871, Time Loss: 54.0%, data: 2.6%, val: 43.4%, 157.2 batches/sec\n",
      "Epoch   12, sqrt loss 0.03591, Val sim-NRMS 0.0007261, Time Loss: 53.9%, data: 2.6%, val: 43.5%, 157.6 batches/sec\n",
      "Epoch   13, sqrt loss 0.03479, Val sim-NRMS 0.0009615, Time Loss: 53.9%, data: 2.6%, val: 43.5%, 158.1 batches/sec\n",
      "Epoch   14, sqrt loss 0.03332, Val sim-NRMS 0.0008123, Time Loss: 53.9%, data: 2.4%, val: 43.5%, 158.5 batches/sec\n",
      "Epoch   15, sqrt loss  0.0326, Val sim-NRMS 0.001152, Time Loss: 54.0%, data: 2.3%, val: 43.4%, 158.7 batches/sec\n",
      "Epoch   16, sqrt loss 0.03141, Val sim-NRMS 0.0007106, Time Loss: 54.0%, data: 2.4%, val: 43.4%, 159.0 batches/sec\n",
      "########## New lowest validation loss achieved ########### sim-NRMS = 0.00022093880662260332\n",
      "Epoch   17, sqrt loss 0.03051, Val sim-NRMS 0.0002209, Time Loss: 54.0%, data: 2.4%, val: 43.4%, 158.9 batches/sec\n",
      "Epoch   18, sqrt loss 0.02931, Val sim-NRMS 0.0004849, Time Loss: 53.9%, data: 2.4%, val: 43.4%, 159.1 batches/sec\n",
      "Epoch   19, sqrt loss 0.02835, Val sim-NRMS 0.0004191, Time Loss: 53.9%, data: 2.5%, val: 43.4%, 159.3 batches/sec\n",
      "Epoch   20, sqrt loss 0.02769, Val sim-NRMS 0.0002938, Time Loss: 53.8%, data: 2.6%, val: 43.4%, 159.6 batches/sec\n",
      "Epoch   21, sqrt loss 0.02651, Val sim-NRMS 0.000864, Time Loss: 53.7%, data: 2.7%, val: 43.4%, 159.7 batches/sec\n",
      "Epoch   22, sqrt loss 0.02585, Val sim-NRMS 0.0004387, Time Loss: 53.7%, data: 2.6%, val: 43.4%, 159.8 batches/sec\n",
      "Epoch   23, sqrt loss 0.02488, Val sim-NRMS 0.0005005, Time Loss: 53.7%, data: 2.6%, val: 43.4%, 160.0 batches/sec\n",
      "Epoch   24, sqrt loss 0.02427, Val sim-NRMS 0.0006481, Time Loss: 53.8%, data: 2.5%, val: 43.4%, 160.1 batches/sec\n",
      "Epoch   25, sqrt loss  0.0234, Val sim-NRMS 0.000862, Time Loss: 53.8%, data: 2.6%, val: 43.4%, 160.1 batches/sec\n",
      "Epoch   26, sqrt loss 0.02237, Val sim-NRMS 0.0005207, Time Loss: 53.8%, data: 2.5%, val: 43.4%, 160.2 batches/sec\n",
      "########## New lowest validation loss achieved ########### sim-NRMS = 0.00011764870323277016\n",
      "Epoch   27, sqrt loss 0.02144, Val sim-NRMS 0.0001176, Time Loss: 53.8%, data: 2.5%, val: 43.4%, 160.3 batches/sec\n",
      "Epoch   28, sqrt loss 0.02075, Val sim-NRMS 0.0004688, Time Loss: 53.8%, data: 2.5%, val: 43.4%, 160.4 batches/sec\n",
      "Epoch   29, sqrt loss  0.0202, Val sim-NRMS 0.001128, Time Loss: 53.8%, data: 2.6%, val: 43.4%, 160.5 batches/sec\n",
      "Epoch   30, sqrt loss 0.01957, Val sim-NRMS 0.0007677, Time Loss: 53.8%, data: 2.6%, val: 43.4%, 160.5 batches/sec\n",
      "Epoch   31, sqrt loss 0.01883, Val sim-NRMS 0.0005362, Time Loss: 53.8%, data: 2.5%, val: 43.4%, 160.6 batches/sec\n",
      "Epoch   32, sqrt loss 0.01769, Val sim-NRMS 0.0003806, Time Loss: 53.9%, data: 2.5%, val: 43.4%, 160.7 batches/sec\n",
      "Epoch   33, sqrt loss 0.01749, Val sim-NRMS 0.0002667, Time Loss: 53.9%, data: 2.5%, val: 43.4%, 160.6 batches/sec\n",
      "Epoch   34, sqrt loss 0.01664, Val sim-NRMS 0.0007769, Time Loss: 53.9%, data: 2.5%, val: 43.4%, 160.8 batches/sec\n",
      "Epoch   35, sqrt loss 0.01599, Val sim-NRMS 0.0005227, Time Loss: 53.9%, data: 2.5%, val: 43.4%, 160.8 batches/sec\n",
      "Epoch   36, sqrt loss 0.01519, Val sim-NRMS 0.0005526, Time Loss: 53.9%, data: 2.5%, val: 43.4%, 160.9 batches/sec\n",
      "Epoch   37, sqrt loss 0.01454, Val sim-NRMS 0.0003674, Time Loss: 54.0%, data: 2.4%, val: 43.4%, 160.9 batches/sec\n",
      "Epoch   38, sqrt loss 0.01404, Val sim-NRMS 0.0001722, Time Loss: 54.0%, data: 2.4%, val: 43.4%, 161.1 batches/sec\n",
      "Epoch   39, sqrt loss 0.01349, Val sim-NRMS 0.0004594, Time Loss: 53.9%, data: 2.5%, val: 43.4%, 161.3 batches/sec\n",
      "########## New lowest validation loss achieved ########### sim-NRMS = 7.119105124480614e-05\n",
      "Epoch   40, sqrt loss 0.01262, Val sim-NRMS 7.119e-05, Time Loss: 53.9%, data: 2.4%, val: 43.4%, 161.4 batches/sec\n",
      "Epoch   41, sqrt loss 0.01161, Val sim-NRMS 0.000386, Time Loss: 53.9%, data: 2.4%, val: 43.4%, 161.5 batches/sec\n",
      "########## New lowest validation loss achieved ########### sim-NRMS = 6.243327981969013e-05\n",
      "Epoch   42, sqrt loss 0.01104, Val sim-NRMS 6.243e-05, Time Loss: 53.8%, data: 2.5%, val: 43.5%, 161.6 batches/sec\n",
      "Epoch   43, sqrt loss 0.01011, Val sim-NRMS 0.000175, Time Loss: 53.8%, data: 2.4%, val: 43.5%, 161.8 batches/sec\n",
      "Epoch   44, sqrt loss 0.009763, Val sim-NRMS 0.0001467, Time Loss: 53.8%, data: 2.4%, val: 43.5%, 161.9 batches/sec\n",
      "Epoch   45, sqrt loss 0.008953, Val sim-NRMS 0.0001269, Time Loss: 53.8%, data: 2.4%, val: 43.5%, 162.0 batches/sec\n",
      "Epoch   46, sqrt loss 0.008332, Val sim-NRMS 0.0002978, Time Loss: 53.8%, data: 2.4%, val: 43.5%, 162.2 batches/sec\n",
      "Epoch   47, sqrt loss 0.007756, Val sim-NRMS 0.0003423, Time Loss: 53.8%, data: 2.4%, val: 43.5%, 162.3 batches/sec\n",
      "Epoch   48, sqrt loss 0.007164, Val sim-NRMS 0.0002089, Time Loss: 53.8%, data: 2.4%, val: 43.6%, 162.4 batches/sec\n",
      "Epoch   49, sqrt loss 0.006806, Val sim-NRMS 8.629e-05, Time Loss: 53.8%, data: 2.4%, val: 43.6%, 162.4 batches/sec\n",
      "Epoch   50, sqrt loss 0.006307, Val sim-NRMS 0.0003194, Time Loss: 53.8%, data: 2.4%, val: 43.5%, 161.9 batches/sec\n",
      "Epoch   51, sqrt loss 0.005872, Val sim-NRMS 0.0007288, Time Loss: 53.9%, data: 2.4%, val: 43.5%, 161.9 batches/sec\n",
      "Epoch   52, sqrt loss 0.005577, Val sim-NRMS 0.0002351, Time Loss: 53.8%, data: 2.4%, val: 43.6%, 162.0 batches/sec\n",
      "Epoch   53, sqrt loss 0.005283, Val sim-NRMS 0.000239, Time Loss: 53.8%, data: 2.4%, val: 43.6%, 162.1 batches/sec\n",
      "Epoch   54, sqrt loss 0.005146, Val sim-NRMS 0.0005244, Time Loss: 53.8%, data: 2.4%, val: 43.6%, 162.2 batches/sec\n",
      "Epoch   55, sqrt loss 0.004985, Val sim-NRMS 0.0004602, Time Loss: 53.8%, data: 2.4%, val: 43.6%, 162.3 batches/sec\n",
      "Epoch   56, sqrt loss 0.004841, Val sim-NRMS 0.0006161, Time Loss: 53.8%, data: 2.4%, val: 43.6%, 162.4 batches/sec\n",
      "Epoch   57, sqrt loss 0.004588, Val sim-NRMS 0.0007221, Time Loss: 53.8%, data: 2.4%, val: 43.6%, 162.5 batches/sec\n",
      "Epoch   58, sqrt loss 0.004589, Val sim-NRMS 0.0006502, Time Loss: 53.8%, data: 2.4%, val: 43.6%, 162.6 batches/sec\n",
      "Epoch   59, sqrt loss 0.004503, Val sim-NRMS 0.00074, Time Loss: 54.2%, data: 2.4%, val: 43.3%, 161.3 batches/sec\n",
      "Epoch   60, sqrt loss 0.004455, Val sim-NRMS 0.001047, Time Loss: 54.2%, data: 2.4%, val: 43.3%, 161.4 batches/sec\n",
      "Epoch   61, sqrt loss 0.00457, Val sim-NRMS 0.0008857, Time Loss: 54.2%, data: 2.4%, val: 43.3%, 161.5 batches/sec\n",
      "Epoch   62, sqrt loss 0.004333, Val sim-NRMS 0.001154, Time Loss: 54.2%, data: 2.4%, val: 43.3%, 161.6 batches/sec\n",
      "Epoch   63, sqrt loss 0.004457, Val sim-NRMS 0.0007435, Time Loss: 54.2%, data: 2.3%, val: 43.3%, 161.7 batches/sec\n",
      "Epoch   64, sqrt loss 0.004404, Val sim-NRMS 0.0009385, Time Loss: 54.2%, data: 2.3%, val: 43.3%, 161.8 batches/sec\n"
     ]
    },
    {
     "name": "stdout",
     "output_type": "stream",
     "text": [
      "Epoch   65, sqrt loss 0.004302, Val sim-NRMS 0.0007622, Time Loss: 54.2%, data: 2.3%, val: 43.3%, 161.8 batches/sec\n",
      "Epoch   66, sqrt loss 0.004362, Val sim-NRMS 0.0005823, Time Loss: 54.2%, data: 2.3%, val: 43.3%, 161.9 batches/sec\n",
      "Epoch   67, sqrt loss 0.004355, Val sim-NRMS 0.0008125, Time Loss: 54.2%, data: 2.3%, val: 43.3%, 162.0 batches/sec\n",
      "Epoch   68, sqrt loss 0.004374, Val sim-NRMS 0.001093, Time Loss: 54.2%, data: 2.3%, val: 43.3%, 162.1 batches/sec\n",
      "Epoch   69, sqrt loss 0.004316, Val sim-NRMS 0.0009505, Time Loss: 54.2%, data: 2.3%, val: 43.4%, 162.1 batches/sec\n",
      "Epoch   70, sqrt loss 0.004132, Val sim-NRMS 0.0008635, Time Loss: 54.2%, data: 2.3%, val: 43.4%, 162.2 batches/sec\n",
      "Epoch   71, sqrt loss 0.004178, Val sim-NRMS 0.0007358, Time Loss: 54.2%, data: 2.3%, val: 43.4%, 162.3 batches/sec\n",
      "Epoch   72, sqrt loss 0.004106, Val sim-NRMS 0.0007221, Time Loss: 54.2%, data: 2.3%, val: 43.4%, 162.4 batches/sec\n",
      "Epoch   73, sqrt loss 0.004024, Val sim-NRMS 0.0006856, Time Loss: 54.2%, data: 2.3%, val: 43.4%, 162.4 batches/sec\n",
      "Epoch   74, sqrt loss 0.003851, Val sim-NRMS 0.0005852, Time Loss: 54.2%, data: 2.3%, val: 43.4%, 162.5 batches/sec\n",
      "Epoch   75, sqrt loss 0.004155, Val sim-NRMS 0.0005857, Time Loss: 54.2%, data: 2.3%, val: 43.4%, 162.6 batches/sec\n",
      "Epoch   76, sqrt loss 0.00392, Val sim-NRMS 0.0008779, Time Loss: 54.1%, data: 2.3%, val: 43.4%, 162.7 batches/sec\n",
      "Epoch   77, sqrt loss 0.004042, Val sim-NRMS 0.0009032, Time Loss: 54.1%, data: 2.3%, val: 43.4%, 162.7 batches/sec\n",
      "Epoch   78, sqrt loss 0.003984, Val sim-NRMS 0.0009717, Time Loss: 54.1%, data: 2.3%, val: 43.4%, 162.8 batches/sec\n",
      "Epoch   79, sqrt loss 0.003966, Val sim-NRMS 0.00086, Time Loss: 54.2%, data: 2.3%, val: 43.5%, 162.9 batches/sec\n",
      "Epoch   80, sqrt loss 0.003788, Val sim-NRMS 0.000501, Time Loss: 54.2%, data: 2.3%, val: 43.5%, 162.9 batches/sec\n",
      "Epoch   81, sqrt loss 0.003728, Val sim-NRMS 0.0006276, Time Loss: 54.1%, data: 2.2%, val: 43.5%, 163.0 batches/sec\n",
      "Epoch   82, sqrt loss 0.00388, Val sim-NRMS 0.0007289, Time Loss: 54.1%, data: 2.3%, val: 43.5%, 163.0 batches/sec\n",
      "Epoch   83, sqrt loss 0.003868, Val sim-NRMS 0.0007958, Time Loss: 54.1%, data: 2.3%, val: 43.5%, 163.1 batches/sec\n",
      "Epoch   84, sqrt loss 0.003806, Val sim-NRMS 0.0008741, Time Loss: 54.1%, data: 2.3%, val: 43.5%, 163.1 batches/sec\n",
      "Epoch   85, sqrt loss 0.003735, Val sim-NRMS 0.0008029, Time Loss: 54.1%, data: 2.2%, val: 43.5%, 163.1 batches/sec\n",
      "Epoch   86, sqrt loss 0.00376, Val sim-NRMS 0.0007465, Time Loss: 54.1%, data: 2.3%, val: 43.5%, 163.2 batches/sec\n",
      "Epoch   87, sqrt loss 0.003715, Val sim-NRMS 0.0005365, Time Loss: 54.1%, data: 2.3%, val: 43.5%, 163.2 batches/sec\n",
      "Epoch   88, sqrt loss 0.003667, Val sim-NRMS 0.0008177, Time Loss: 54.1%, data: 2.2%, val: 43.5%, 163.3 batches/sec\n",
      "Epoch   89, sqrt loss 0.003637, Val sim-NRMS 0.00101, Time Loss: 54.1%, data: 2.2%, val: 43.5%, 163.3 batches/sec\n",
      "Epoch   90, sqrt loss 0.003725, Val sim-NRMS 0.0008209, Time Loss: 54.1%, data: 2.2%, val: 43.5%, 163.4 batches/sec\n",
      "Epoch   91, sqrt loss 0.003572, Val sim-NRMS 0.000601, Time Loss: 54.1%, data: 2.2%, val: 43.5%, 163.4 batches/sec\n",
      "Epoch   92, sqrt loss 0.00348, Val sim-NRMS 0.0008899, Time Loss: 54.1%, data: 2.2%, val: 43.5%, 163.4 batches/sec\n",
      "Epoch   93, sqrt loss 0.003509, Val sim-NRMS 0.0006549, Time Loss: 54.1%, data: 2.2%, val: 43.5%, 163.5 batches/sec\n",
      "Epoch   94, sqrt loss 0.003561, Val sim-NRMS 0.0005658, Time Loss: 54.1%, data: 2.2%, val: 43.5%, 163.5 batches/sec\n",
      "Epoch   95, sqrt loss 0.003596, Val sim-NRMS 0.001088, Time Loss: 54.1%, data: 2.2%, val: 43.6%, 163.6 batches/sec\n",
      "Epoch   96, sqrt loss 0.003635, Val sim-NRMS 0.0005922, Time Loss: 54.1%, data: 2.3%, val: 43.6%, 163.6 batches/sec\n",
      "Epoch   97, sqrt loss 0.00345, Val sim-NRMS 0.000766, Time Loss: 54.1%, data: 2.2%, val: 43.6%, 163.6 batches/sec\n",
      "Epoch   98, sqrt loss 0.003601, Val sim-NRMS 0.0005622, Time Loss: 54.1%, data: 2.3%, val: 43.6%, 163.7 batches/sec\n",
      "Epoch   99, sqrt loss 0.003451, Val sim-NRMS 0.0007905, Time Loss: 54.0%, data: 2.3%, val: 43.6%, 163.7 batches/sec\n",
      "Epoch  100, sqrt loss 0.003456, Val sim-NRMS 0.0008033, Time Loss: 54.0%, data: 2.3%, val: 43.6%, 163.8 batches/sec\n",
      "Loaded model with best known validation sim-NRMS of 6.243e-05 which happened on epoch 42 (epoch_id=42.00)\n"
     ]
    }
   ],
   "source": [
    "fit_sys = deepSI.fit_systems.SS_encoder_general(nx=1, na=2, nb=2,\\\n",
    "                                                e_net=my_encoder_net, e_net_kwargs=dict(),\\\n",
    "                                                f_net=my_state_net, f_net_kwargs=dict(a0=a_now*0.9),\\\n",
    "                                                h_net=my_output_net)\n",
    "fit_sys.init_model(nu=None,ny=None)\n",
    "fit_sys.fit(train, val, epochs=100, loss_kwargs=dict(nf=25), auto_fit_norm=False, optimizer_kwargs=dict(betas=(0.99,0.999))) #nf = T in the paper\n"
   ]
  },
  {
   "cell_type": "markdown",
   "id": "56fd88e2",
   "metadata": {},
   "source": [
    "## Results nonlinear encoder"
   ]
  },
  {
   "cell_type": "code",
   "execution_count": 8,
   "id": "9864d9f1",
   "metadata": {},
   "outputs": [
    {
     "name": "stdout",
     "output_type": "stream",
     "text": [
      "a fitted: 0.5000396370887756  real a: 0.5\n"
     ]
    },
    {
     "data": {
      "image/png": "[encoded data removed]",
      "text/plain": [
       "<Figure size 432x288 with 1 Axes>"
      ]
     },
     "metadata": {
      "needs_background": "light"
     },
     "output_type": "display_data"
    },
    {
     "name": "stdout",
     "output_type": "stream",
     "text": [
      "NRMS: 0.00018599538128569616\n"
     ]
    },
    {
     "data": {
      "image/png": "[encoded data removed]",
      "text/plain": [
       "<Figure size 432x288 with 1 Axes>"
      ]
     },
     "metadata": {
      "needs_background": "light"
     },
     "output_type": "display_data"
    }
   ],
   "source": [
    "print('a fitted:', fit_sys.fn.a.item(), ' real a:',a_now)\n",
    "test_p = fit_sys.apply_experiment(test)\n",
    "test.plot()\n",
    "(test_p-test).plot()\n",
    "plt.show()\n",
    "print('NRMS:',test_p.NRMS(test)) #1.0e-7\n",
    "fit_sys.n_step_error_plot(test) #encoder isn't perfect but it works"
   ]
  }
 ],
 "metadata": {
  "kernelspec": {
   "display_name": "Python 3",
   "language": "python",
   "name": "python3"
  },
  "language_info": {
   "codemirror_mode": {
    "name": "ipython",
    "version": 3
   },
   "file_extension": ".py",
   "mimetype": "text/x-python",
   "name": "python",
   "nbconvert_exporter": "python",
   "pygments_lexer": "ipython3",
   "version": "3.8.8"
  }
 },
 "nbformat": 4,
 "nbformat_minor": 5
}
