{
 "cells": [
  {
   "cell_type": "markdown",
   "id": "65b4e576",
   "metadata": {},
   "source": [
    "## Working in progress...\n",
    "\n",
    "* Hyperparameter search for linear systems\n",
    "* Creating your estimator, a more in-depth look into how estimators work\n",
    "* CNN and images.\n",
    "* Input design."
   ]
  },
  {
   "cell_type": "code",
   "execution_count": null,
   "id": "1e77aa7c",
   "metadata": {},
   "outputs": [],
   "source": [
    "# Sys = deepSI.fit_systems.Sklearn_io_linear\n",
    "# bestfit, sys, best_sys_choices, best_fit_choices = \\\n",
    "#     deepSI.fit_systems.grid_search(Sys,datasets,sim_val=test,sys_dict_choices=dict(na=[1,2,3,4,5,6],nb=[1,2,3,4,5,6]) )"
   ]
  }
 ],
 "metadata": {
  "kernelspec": {
   "display_name": "Python 3",
   "language": "python",
   "name": "python3"
  },
  "language_info": {
   "codemirror_mode": {
    "name": "ipython",
    "version": 3
   },
   "file_extension": ".py",
   "mimetype": "text/x-python",
   "name": "python",
   "nbconvert_exporter": "python",
   "pygments_lexer": "ipython3",
   "version": "3.8.8"
  }
 },
 "nbformat": 4,
 "nbformat_minor": 5
}
