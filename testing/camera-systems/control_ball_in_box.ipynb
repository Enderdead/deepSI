{
 "cells": [
  {
   "cell_type": "code",
   "execution_count": 101,
   "metadata": {},
   "outputs": [],
   "source": [
    "import deepSI\n",
    "from deepSI.systems.System import System, System_Deriv, System_data\n",
    "import numpy as np\n",
    "from matplotlib import pyplot as plt\n",
    "import torch\n",
    "\n",
    "import quadprog"
   ]
  },
  {
   "cell_type": "code",
   "execution_count": 106,
   "metadata": {},
   "outputs": [],
   "source": [
    "def control_cal_multi(A,B,C,n_think_ahead,x_current,x_target,umin=-1,umax=1): #class possible for better precomputing\n",
    "    #x+ = A x + B u + C\n",
    "    #xn = [A^3, A^2, A^1, I]*[x,C,C,C] + [A^2*B,A*B,B]*[u0,u1,u2]\n",
    "    #xn =           D                  + E*[u0,u1,u2]\n",
    "    # -1<=ui<=1\n",
    "    # b = \n",
    "    nu = B.shape[1]\n",
    "    nx = A.shape[0]\n",
    "\n",
    "    \n",
    "    Ccon = []\n",
    "    bcon = []\n",
    "    Dlist = []\n",
    "    Elist = []\n",
    "    \n",
    "    for k in range(1,n_think_ahead+1):\n",
    "        \n",
    "        E = []\n",
    "        D = np.zeros((nx,),dtype=float)\n",
    "        Amult = np.eye(nx,dtype=float)\n",
    "        for i in range(k):\n",
    "            D += Amult@C\n",
    "            E.append(Amult@B)\n",
    "            Amult = Amult@A\n",
    "        E = E[::-1]\n",
    "        for z in range(n_think_ahead-k): #is this correct?\n",
    "            E.append(np.zeros((nx,nu)))\n",
    "        E = np.concatenate(E,1)\n",
    "        D += Amult@x_current #x_current?\n",
    "        Dlist.append(D)\n",
    "        Elist.append(E)\n",
    "    \n",
    "\n",
    "    umin, umax = np.array(umin), np.array(umax)\n",
    "    umin = [umin]*(n_think_ahead*nu) if umin.ndim==0 else umin\n",
    "    umax = [umax]*(n_think_ahead*nu) if umax.ndim==0 else umax\n",
    "    \n",
    "    for i,(umin,umax) in enumerate(zip(umin,umax)):\n",
    "        Cline = np.zeros((nu*n_think_ahead))\n",
    "        Cline[i] = 1\n",
    "        Ccon.append(Cline)\n",
    "        bcon.append(umin)\n",
    "        Cline = np.zeros((nu*n_think_ahead))\n",
    "        Cline[i] = -1\n",
    "        Ccon.append(Cline)\n",
    "        bcon.append(-umax)\n",
    "        \n",
    "        \n",
    "    Ccon = np.array(Ccon).T\n",
    "    bcon = np.array(bcon,dtype=float)\n",
    "\n",
    "    # A@A@A@A@x0 + A@A@A@C + A@A@C + A@C+C\n",
    "#     print([Ek.shape for Ek in Elist])\n",
    "    a = np.sum([(x_target.T-Dk.T)@Ek for Ek,Dk in zip(Elist,Dlist)],axis=0)\n",
    "    G = np.sum([Ek.T@Ek for Ek in Elist],axis=0)\n",
    "#     print(G.shape,a.shape)\n",
    "    u = quadprog.solve_qp(G, a, Ccon, bcon, 0)[0]\n",
    "    \n",
    "    return u[:nu]"
   ]
  },
  {
   "cell_type": "code",
   "execution_count": 4,
   "metadata": {},
   "outputs": [],
   "source": [
    "# fit_sys.save_system('encoder_visual_sys')\n",
    "fit_sys = deepSI.load_system('encoder_visual_sys_long')"
   ]
  },
  {
   "cell_type": "code",
   "execution_count": 162,
   "metadata": {},
   "outputs": [],
   "source": [
    "from deepSI.systems import ball_in_box_video_system\n",
    "class ball_in_box_video_system_side_start(ball_in_box_video_system):\n",
    "    def reset(self):\n",
    "        self.x = [0.8,0.8,0,0] #[x,y,vx,vy]\n",
    "        return self.h(self.x) #return position \n",
    "    #save state?\n",
    "class ball_in_box_video_system_other_side_start(ball_in_box_video_system):\n",
    "    def reset(self):\n",
    "        self.x = [0.2,0.2,0,0] #[x,y,vx,vy]\n",
    "        return self.h(self.x) #return position "
   ]
  },
  {
   "cell_type": "code",
   "execution_count": 173,
   "metadata": {},
   "outputs": [
    {
     "data": {
      "text/plain": [
       "[0, 0, -1.3877787807814457e-17, -1.3877787807814457e-17]"
      ]
     },
     "execution_count": 173,
     "metadata": {},
     "output_type": "execute_result"
    }
   ],
   "source": [
    "sys_other_side = ball_in_box_video_system_other_side_start()\n",
    "sys_other_side.reset()\n",
    "sys_other_side.deriv(sys_other_side.x, [-0.46875,-0.46875])"
   ]
  },
  {
   "cell_type": "code",
   "execution_count": 180,
   "metadata": {},
   "outputs": [],
   "source": [
    "f = lambda x,u: fit_sys.fn(torch.cat((x[None,:],u[None,:]),dim=1))[0]  #assume torch arrays\n",
    "\n",
    "\n",
    "u0 = np.array([-0.46875,-0.46875])\n",
    "sys_side2 = ball_in_box_video_system_side_start()\n",
    "\n",
    "#calculate target state:\n",
    "sys_target = ball_in_box_video_system_other_side_start()\n",
    "exp_target = System_data(u=[u0]*100)\n",
    "out_target = sys_target.apply_experiment(exp_target)\n",
    "out_target_normed = fit_sys.norm.transform(out_target)\n",
    "with torch.no_grad():\n",
    "    ynow, k0 = fit_sys.init_state(out_target_normed)\n",
    "    out_target_state = fit_sys.state[0]\n",
    "\n",
    "target_x = out_target_state.detach().numpy()\n",
    "\n",
    "#init state encoder\n",
    "sys_side = ball_in_box_video_system_side_start() #side system\n",
    "exp_side = System_data(u=[-u0]*100)\n",
    "out_side = sys_side.apply_experiment(exp) #better exp possible\n",
    "out_side_normed = fit_sys.norm.transform(out_side) #norm\n",
    "with torch.no_grad():\n",
    "    ynow, k0 = fit_sys.init_state(out_side_normed) #apply normed to fit_sys\n",
    "\n",
    "#init state real system\n",
    "sys_side2 = ball_in_box_video_system_side_start()\n",
    "Y_uncontrolled = []\n",
    "Y_controlled = []\n",
    "\n",
    "Y_controlled.append(sys_side.reset())\n",
    "for i in range(k0):\n",
    "    Y_controlled.append(sys_side.step(-u0))\n",
    "Y_uncontrolled.append(sys_side2.reset())\n",
    "for i in range(k0):\n",
    "    Y_uncontrolled.append(sys_side2.step(-u0))\n",
    "target_x_real = np.array([0.2,0.2,0,0])\n",
    "\n",
    "\n",
    "unow = torch.tensor([0.,0.],requires_grad=True) #point\n",
    "umin = (sys.action_space.low-fit_sys.norm.u0)/fit_sys.norm.ustd\n",
    "umax = (sys.action_space.high-fit_sys.norm.u0)/fit_sys.norm.ustd\n",
    "n_think_ahead=4\n",
    "\n",
    "Xhist_controlled = []\n",
    "Xhist_uncontrolled = []\n",
    "\n",
    "for time in range(50):\n",
    "    #calculate A,B C\n",
    "    # fit_sys.fn() #nx+nu\n",
    "    \n",
    "    #calculate dfdx and dfdu\n",
    "    xnow = fit_sys.state[0].clone().detach() #get current state\n",
    "    xnow.requires_grad=True\n",
    "    xnext = f(xnow,unow)\n",
    "    dfdx, dfdu = [np.array([np.array(dfdxi,dtype=float) for dfdxi in dfdx]) for dfdx in list(zip(*[torch.autograd.grad(xi,(xnow,unow),retain_graph=True) for xi in xnext]))]\n",
    "\n",
    "    #contruct A,B,C: x approx A@x+B@u+C\n",
    "    A = dfdx\n",
    "    B = dfdu\n",
    "    C = np.array(xnext.detach().numpy()-dfdx@xnow.detach().numpy(),dtype=float)\n",
    "\n",
    "    #solve QP control problem\n",
    "    unext = control_cal_multi(A,B,C,n_think_ahead=n_think_ahead,x_current=xnow.detach().numpy(),x_target=target_x,umin=umin,umax=umax)\n",
    "    unext_real = unext*fit_sys.norm.ustd+fit_sys.norm.u0 #convert to real u\n",
    "    \n",
    "\n",
    "    fit_sys.step(unext) #apply control on encoder\n",
    "    Y_controlled.append(sys_side.step(unext_real)) #apply control side encoder\n",
    "    Y_uncontrolled.append(sys_side2.step(u0))\n",
    "    \n",
    "    diff_controlled = sys_side.x-target_x_real\n",
    "    diff_uncontrolled = sys_side2.x-target_x_real\n",
    "    Xhist_controlled.append(diff_controlled)\n",
    "    Xhist_uncontrolled.append(diff_uncontrolled)\n",
    "\n",
    "# dfdx_list = []\n",
    "# dfdu_list = []\n",
    "# for xi in xnext:\n",
    "#     dfdx,dfdu = torch.autograd.grad(xnext[1],(xnow,unow))\n",
    "#     dfdx_list.append()\n",
    "Xhist_controlled = np.array(Xhist_controlled)\n",
    "Xhist_uncontrolled = np.array(Xhist_uncontrolled)"
   ]
  },
  {
   "cell_type": "code",
   "execution_count": 177,
   "metadata": {},
   "outputs": [
    {
     "data": {
      "image/png": "[encoded data removed]",
      "text/plain": [
       "<Figure size 432x288 with 1 Axes>"
      ]
     },
     "metadata": {
      "needs_background": "light"
     },
     "output_type": "display_data"
    },
    {
     "data": {
      "image/png": "[encoded data removed]",
      "text/plain": [
       "<Figure size 432x288 with 1 Axes>"
      ]
     },
     "metadata": {
      "needs_background": "light"
     },
     "output_type": "display_data"
    }
   ],
   "source": [
    "plt.plot(Xhist_controlled[:,0])\n",
    "plt.plot(Xhist_uncontrolled[:,0])\n",
    "plt.show()\n",
    "plt.semilogy(np.mean(Xhist_controlled**2,axis=1))\n",
    "plt.semilogy(np.mean(Xhist_uncontrolled**2,axis=1))\n",
    "plt.show()"
   ]
  },
  {
   "cell_type": "code",
   "execution_count": 183,
   "metadata": {},
   "outputs": [],
   "source": [
    "sys_data_both = System_data(y=np.concatenate((Y_controlled,Y_uncontrolled),axis=1))\n",
    "\n",
    "sys_data_controlled = System_data(y=Y_controlled)\n",
    "sys_data_uncontrolled = System_data(y=Y_uncontrolled)"
   ]
  },
  {
   "cell_type": "code",
   "execution_count": 184,
   "metadata": {},
   "outputs": [],
   "source": [
    "sys_data_both.to_video('side-to-side')"
   ]
  },
  {
   "cell_type": "code",
   "execution_count": 109,
   "metadata": {},
   "outputs": [
    {
     "data": {
      "text/plain": [
       "(array([-1.7257385, -1.7265723], dtype=float32),\n",
       " array([1.735482 , 1.7402879], dtype=float32))"
      ]
     },
     "execution_count": 109,
     "metadata": {},
     "output_type": "execute_result"
    }
   ],
   "source": [
    "umin,umax"
   ]
  },
  {
   "cell_type": "code",
   "execution_count": null,
   "metadata": {},
   "outputs": [],
   "source": []
  }
 ],
 "metadata": {
  "kernelspec": {
   "display_name": "Python 3",
   "language": "python",
   "name": "python3"
  },
  "language_info": {
   "codemirror_mode": {
    "name": "ipython",
    "version": 3
   },
   "file_extension": ".py",
   "mimetype": "text/x-python",
   "name": "python",
   "nbconvert_exporter": "python",
   "pygments_lexer": "ipython3",
   "version": "3.7.7"
  }
 },
 "nbformat": 4,
 "nbformat_minor": 4
}
