{
 "cells": [
  {
   "cell_type": "code",
   "execution_count": 9,
   "metadata": {},
   "outputs": [],
   "source": [
    "import torch\n",
    "from torch import nn"
   ]
  },
  {
   "cell_type": "code",
   "execution_count": null,
   "metadata": {},
   "outputs": [],
   "source": []
  },
  {
   "cell_type": "code",
   "execution_count": 11,
   "metadata": {},
   "outputs": [],
   "source": [
    "batch_size = 7\n",
    "hidden_size = 8\n",
    "num_layers = 2\n",
    "input_size = 1\n",
    "seq_len = 1\n",
    "rnn = nn.RNN(input_size=input_size,hidden_size=hidden_size,num_layers=num_layers,batch_first=True)\n",
    "input = torch.rand((batch_size,seq_len,input_size))\n",
    "h_0 = torch.rand((num_layers,batch_size,hidden_size))\n",
    "output, h_n = rnn.forward(input,h_0)"
   ]
  },
  {
   "cell_type": "code",
   "execution_count": 13,
   "metadata": {},
   "outputs": [
    {
     "data": {
      "text/plain": [
       "(torch.Size([7, 1, 8]), torch.Size([2, 7, 8]))"
      ]
     },
     "execution_count": 13,
     "metadata": {},
     "output_type": "execute_result"
    }
   ],
   "source": [
    "output.shape, h_n.shape"
   ]
  },
  {
   "cell_type": "code",
   "execution_count": 15,
   "metadata": {},
   "outputs": [
    {
     "data": {
      "text/plain": [
       "(tensor([[ 0.6085, -0.9101, -0.4117, -0.0262,  0.0301, -0.0717, -0.6501, -0.2016],\n",
       "         [-0.0264, -0.8781, -0.3877,  0.0744,  0.0205,  0.1201, -0.6629, -0.0488],\n",
       "         [ 0.3324, -0.8538, -0.0284,  0.1119,  0.2347,  0.1847, -0.4345,  0.3302],\n",
       "         [ 0.4883, -0.9191, -0.1585,  0.1035, -0.2342, -0.1949, -0.7063, -0.2319],\n",
       "         [-0.0426, -0.8053,  0.1477,  0.1946, -0.1347,  0.2069, -0.5110,  0.3715],\n",
       "         [ 0.1532, -0.7824, -0.0335,  0.1147, -0.1141,  0.0126, -0.7203, -0.1193],\n",
       "         [ 0.0964, -0.8260, -0.2471, -0.1181,  0.3868,  0.4634, -0.3215,  0.1258]],\n",
       "        grad_fn=<SelectBackward>),\n",
       " tensor([[ 0.6085, -0.9101, -0.4117, -0.0262,  0.0301, -0.0717, -0.6501, -0.2016],\n",
       "         [-0.0264, -0.8781, -0.3877,  0.0744,  0.0205,  0.1201, -0.6629, -0.0488],\n",
       "         [ 0.3324, -0.8538, -0.0284,  0.1119,  0.2347,  0.1847, -0.4345,  0.3302],\n",
       "         [ 0.4883, -0.9191, -0.1585,  0.1035, -0.2342, -0.1949, -0.7063, -0.2319],\n",
       "         [-0.0426, -0.8053,  0.1477,  0.1946, -0.1347,  0.2069, -0.5110,  0.3715],\n",
       "         [ 0.1532, -0.7824, -0.0335,  0.1147, -0.1141,  0.0126, -0.7203, -0.1193],\n",
       "         [ 0.0964, -0.8260, -0.2471, -0.1181,  0.3868,  0.4634, -0.3215,  0.1258]],\n",
       "        grad_fn=<SliceBackward>))"
      ]
     },
     "execution_count": 15,
     "metadata": {},
     "output_type": "execute_result"
    }
   ],
   "source": [
    "h_n[-1],output[:,0,:]"
   ]
  },
  {
   "cell_type": "code",
   "execution_count": 1,
   "metadata": {},
   "outputs": [],
   "source": [
    "import deepSI"
   ]
  },
  {
   "cell_type": "code",
   "execution_count": 17,
   "metadata": {},
   "outputs": [],
   "source": [
    "from deepSI.fit_systems import System_encoder_RNN, System_encoder"
   ]
  },
  {
   "cell_type": "code",
   "execution_count": 10,
   "metadata": {},
   "outputs": [],
   "source": [
    "train,test = deepSI.datasets.Cascaded_Tanks()"
   ]
  },
  {
   "cell_type": "code",
   "execution_count": 11,
   "metadata": {},
   "outputs": [],
   "source": [
    "sys = System_encoder_RNN()"
   ]
  },
  {
   "cell_type": "code",
   "execution_count": 5,
   "metadata": {},
   "outputs": [],
   "source": [
    "sys.optimizer = sys.init_optimizer(sys.init_nets(None,None))"
   ]
  },
  {
   "cell_type": "code",
   "execution_count": 6,
   "metadata": {},
   "outputs": [],
   "source": [
    "sys.checkpoint_load_system()"
   ]
  },
  {
   "cell_type": "code",
   "execution_count": 12,
   "metadata": {},
   "outputs": [
    {
     "name": "stdout",
     "output_type": "stream",
     "text": [
      "########## new best ###########\n",
      "N_training_samples=980, batch_size=32, N_batch_updates_per_epoch=30\n"
     ]
    },
    {
     "data": {
      "application/vnd.jupyter.widget-view+json": {
       "model_id": "de4c9d1d487b4ab397383cea2a1d2c82",
       "version_major": 2,
       "version_minor": 0
      },
      "text/plain": [
       "HBox(children=(FloatProgress(value=0.0), HTML(value='')))"
      ]
     },
     "metadata": {},
     "output_type": "display_data"
    },
    {
     "name": "stdout",
     "output_type": "stream",
     "text": [
      "########## new best ###########\n",
      "epoch=0 NRMS= 99.3951% Loss=0.89042\n",
      "########## new best ###########\n",
      "epoch=1 NRMS= 98.2165% Loss=0.65506\n",
      "########## new best ###########\n",
      "epoch=2 NRMS= 85.3080% Loss=0.33265\n",
      "########## new best ###########\n",
      "epoch=3 NRMS= 70.5597% Loss=0.10140\n",
      "########## new best ###########\n",
      "epoch=4 NRMS= 49.0074% Loss=0.04950\n",
      "########## new best ###########\n",
      "epoch=5 NRMS= 43.0338% Loss=0.03612\n",
      "epoch=6 NRMS= 47.5889% Loss=0.02866\n",
      "########## new best ###########\n",
      "epoch=7 NRMS= 36.6843% Loss=0.02587\n",
      "########## new best ###########\n",
      "epoch=8 NRMS= 30.8598% Loss=0.02251\n",
      "########## new best ###########\n",
      "epoch=9 NRMS= 29.8129% Loss=0.02030\n",
      "########## new best ###########\n",
      "epoch=10 NRMS= 24.0425% Loss=0.01656\n",
      "########## new best ###########\n",
      "epoch=11 NRMS= 23.7580% Loss=0.01623\n",
      "########## new best ###########\n",
      "epoch=12 NRMS= 23.5767% Loss=0.01503\n",
      "epoch=13 NRMS= 28.9247% Loss=0.01757\n",
      "########## new best ###########\n",
      "epoch=14 NRMS= 19.7712% Loss=0.01677\n",
      "epoch=15 NRMS= 35.1723% Loss=0.01268\n",
      "epoch=16 NRMS= 31.2730% Loss=0.01302\n",
      "########## new best ###########\n",
      "epoch=17 NRMS= 19.4011% Loss=0.01232\n",
      "epoch=18 NRMS= 27.8596% Loss=0.01186\n",
      "epoch=19 NRMS= 22.7506% Loss=0.01138\n",
      "epoch=20 NRMS= 22.3369% Loss=0.01106\n",
      "epoch=21 NRMS= 23.0540% Loss=0.01164\n",
      "epoch=22 NRMS= 29.6675% Loss=0.01254\n",
      "########## new best ###########\n",
      "epoch=23 NRMS= 18.0989% Loss=0.01204\n",
      "epoch=24 NRMS= 21.9128% Loss=0.00904\n",
      "epoch=25 NRMS= 30.1055% Loss=0.00912\n",
      "epoch=26 NRMS= 42.7050% Loss=0.00928\n",
      "epoch=27 NRMS= 26.9712% Loss=0.01121\n",
      "########## new best ###########\n",
      "epoch=28 NRMS= 17.1027% Loss=0.01305\n",
      "epoch=29 NRMS= 17.7036% Loss=0.01256\n",
      "epoch=30 NRMS= 29.7510% Loss=0.00965\n",
      "epoch=31 NRMS= 30.0592% Loss=0.00850\n",
      "epoch=32 NRMS= 48.9613% Loss=0.01036\n",
      "epoch=33 NRMS= 19.7571% Loss=0.00949\n",
      "epoch=34 NRMS= 17.8488% Loss=0.00945\n",
      "epoch=35 NRMS= 19.1261% Loss=0.01232\n",
      "epoch=36 NRMS= 22.3993% Loss=0.01287\n",
      "epoch=37 NRMS= 37.2035% Loss=0.00888\n",
      "epoch=38 NRMS= 23.4336% Loss=0.00888\n",
      "epoch=39 NRMS= 27.3756% Loss=0.01207\n",
      "epoch=40 NRMS= 31.9901% Loss=0.01051\n",
      "epoch=41 NRMS= 42.0473% Loss=0.00952\n",
      "epoch=42 NRMS= 18.7059% Loss=0.00959\n",
      "epoch=43 NRMS= 33.6665% Loss=0.00696\n",
      "epoch=44 NRMS= 30.0750% Loss=0.00761\n",
      "epoch=45 NRMS= 25.4272% Loss=0.00693\n",
      "epoch=46 NRMS= 29.4580% Loss=0.00797\n",
      "epoch=47 NRMS= 26.8839% Loss=0.00800\n",
      "epoch=48 NRMS= 24.5810% Loss=0.00817\n",
      "epoch=49 NRMS= 26.7420% Loss=0.00798\n",
      "epoch=50 NRMS= 35.1534% Loss=0.00788\n",
      "epoch=51 NRMS= 24.0001% Loss=0.00821\n",
      "epoch=52 NRMS= 26.8793% Loss=0.00901\n",
      "epoch=53 NRMS= 47.5570% Loss=0.00808\n",
      "epoch=54 NRMS= 22.4740% Loss=0.00841\n",
      "epoch=55 NRMS= 26.1725% Loss=0.00765\n",
      "epoch=56 NRMS= 21.1547% Loss=0.00909\n",
      "epoch=57 NRMS= 26.4880% Loss=0.00759\n",
      "epoch=58 NRMS= 26.8615% Loss=0.00675\n",
      "epoch=59 NRMS= 30.3625% Loss=0.00676\n",
      "epoch=60 NRMS= 24.7002% Loss=0.00750\n",
      "epoch=61 NRMS= 36.3185% Loss=0.00887\n",
      "epoch=62 NRMS= 28.7381% Loss=0.00755\n",
      "epoch=63 NRMS= 36.3740% Loss=0.00808\n",
      "epoch=64 NRMS= 39.9040% Loss=0.00785\n",
      "epoch=65 NRMS= 25.9873% Loss=0.00795\n",
      "epoch=66 NRMS= 40.8353% Loss=0.00810\n",
      "epoch=67 NRMS= 35.7962% Loss=0.00863\n",
      "epoch=68 NRMS= 37.8612% Loss=0.00695\n",
      "epoch=69 NRMS= 26.1618% Loss=0.00736\n",
      "epoch=70 NRMS= 34.4907% Loss=0.00648\n",
      "epoch=71 NRMS= 34.4258% Loss=0.00610\n",
      "epoch=72 NRMS= 46.2847% Loss=0.00656\n",
      "epoch=73 NRMS= 38.1533% Loss=0.00638\n",
      "epoch=74 NRMS= 27.8112% Loss=0.00644\n",
      "epoch=75 NRMS= 44.3505% Loss=0.00919\n",
      "epoch=76 NRMS= 38.4958% Loss=0.00689\n",
      "epoch=77 NRMS= 24.0206% Loss=0.00720\n",
      "epoch=78 NRMS= 35.2250% Loss=0.00598\n",
      "epoch=79 NRMS= 25.8684% Loss=0.00587\n",
      "epoch=80 NRMS= 28.6465% Loss=0.00616\n",
      "epoch=81 NRMS= 47.4438% Loss=0.00581\n",
      "epoch=82 NRMS= 34.1544% Loss=0.00605\n",
      "epoch=83 NRMS= 25.4872% Loss=0.00779\n",
      "epoch=84 NRMS= 47.6878% Loss=0.00641\n",
      "epoch=85 NRMS= 24.0421% Loss=0.00602\n",
      "epoch=86 NRMS= 36.6898% Loss=0.00613\n",
      "epoch=87 NRMS= 28.7380% Loss=0.00612\n",
      "epoch=88 NRMS= 26.6689% Loss=0.00613\n",
      "epoch=89 NRMS= 36.7218% Loss=0.00796\n",
      "epoch=90 NRMS= 27.4510% Loss=0.00665\n",
      "epoch=91 NRMS= 24.4895% Loss=0.00554\n",
      "epoch=92 NRMS= 49.0152% Loss=0.00556\n",
      "epoch=93 NRMS= 23.3110% Loss=0.00602\n",
      "epoch=94 NRMS= 34.3823% Loss=0.00594\n",
      "epoch=95 NRMS= 25.1216% Loss=0.00498\n",
      "epoch=96 NRMS= 43.1601% Loss=0.00640\n",
      "epoch=97 NRMS= 26.5198% Loss=0.01014\n",
      "epoch=98 NRMS= 36.5876% Loss=0.00770\n",
      "epoch=99 NRMS= 31.5441% Loss=0.00527\n",
      "\n"
     ]
    }
   ],
   "source": [
    "sys.fit(train,sim_val=test,batch_size=32,epochs=100)"
   ]
  },
  {
   "cell_type": "code",
   "execution_count": 13,
   "metadata": {},
   "outputs": [
    {
     "data": {
      "image/png": "[encoded data removed]",
      "text/plain": [
       "<Figure size 432x288 with 1 Axes>"
      ]
     },
     "metadata": {
      "needs_background": "light"
     },
     "output_type": "display_data"
    }
   ],
   "source": [
    "test[:100].plot()\n",
    "sys.apply_experiment(test)[:100].plot(show=True)"
   ]
  },
  {
   "cell_type": "code",
   "execution_count": 14,
   "metadata": {},
   "outputs": [
    {
     "data": {
      "text/plain": [
       "array([0.05738281, 0.0710358 , 0.07010759, 0.06542909, 0.07295832,\n",
       "       0.07067592, 0.07542659, 0.08010331, 0.08309677, 0.08708222,\n",
       "       0.08976912, 0.09204535, 0.09426057, 0.09603353, 0.09775416,\n",
       "       0.0994557 , 0.10106071, 0.10281232, 0.10470398, 0.10674598,\n",
       "       0.10892444, 0.11134532, 0.11390522, 0.11666036, 0.11950817,\n",
       "       0.1224199 , 0.1254141 , 0.12841799, 0.13146039, 0.13453216,\n",
       "       0.13767091, 0.14090282, 0.14418609, 0.14761747, 0.15112165,\n",
       "       0.15465846, 0.15819548, 0.16173774, 0.16527599, 0.168801  ,\n",
       "       0.17227208, 0.1755757 , 0.17876748, 0.1817282 , 0.18449192,\n",
       "       0.18704733, 0.18939531, 0.1914956 , 0.19336726, 0.19504766,\n",
       "       0.19651232, 0.19780988, 0.19893561, 0.19987142, 0.20065229,\n",
       "       0.20122021, 0.20165231, 0.20188807, 0.20196005, 0.20188658,\n",
       "       0.20170291, 0.2014254 , 0.2011012 , 0.20070302, 0.20028931,\n",
       "       0.19987636, 0.19947588, 0.19909758, 0.19875259, 0.19842539,\n",
       "       0.19813615, 0.19786517, 0.19763684, 0.1974267 , 0.19723874,\n",
       "       0.19708981, 0.19696836, 0.19686444, 0.19679093, 0.19674381,\n",
       "       0.19672096, 0.19671555, 0.19672542, 0.19675845, 0.19679486,\n",
       "       0.19683974, 0.19691838, 0.1969971 , 0.19710877, 0.19722714,\n",
       "       0.19736247, 0.19752354, 0.19770977, 0.19790467, 0.19812843,\n",
       "       0.19836816, 0.19861219, 0.19886613, 0.19911984, 0.19938063])"
      ]
     },
     "execution_count": 14,
     "metadata": {},
     "output_type": "execute_result"
    }
   ],
   "source": [
    "sys.n_step_error(train)"
   ]
  },
  {
   "cell_type": "code",
   "execution_count": 20,
   "metadata": {},
   "outputs": [],
   "source": [
    "sys_data_deepSI = deepSI.datasets.WienerHammerBenchMark(split_data=False)#sys_data_deepSI[:134020], sys_data_deepSI[134020:]\n",
    "sys_train,sys_test = sys_data_deepSI[:134020], sys_data_deepSI[134020:]"
   ]
  },
  {
   "cell_type": "code",
   "execution_count": 21,
   "metadata": {},
   "outputs": [],
   "source": [
    "sys_deepSI = System_encoder(nx=8,na=50,nb=50)"
   ]
  },
  {
   "cell_type": "code",
   "execution_count": 22,
   "metadata": {},
   "outputs": [
    {
     "name": "stdout",
     "output_type": "stream",
     "text": [
      "########## new best ###########\n",
      "N_training_samples=133941, batch_size=1024, N_batch_updates_per_epoch=130\n"
     ]
    },
    {
     "data": {
      "application/vnd.jupyter.widget-view+json": {
       "model_id": "6d442acb83264666a1c83adc14787501",
       "version_major": 2,
       "version_minor": 0
      },
      "text/plain": [
       "HBox(children=(FloatProgress(value=0.0), HTML(value='')))"
      ]
     },
     "metadata": {},
     "output_type": "display_data"
    },
    {
     "name": "stdout",
     "output_type": "stream",
     "text": [
      "########## new best ###########\n",
      "epoch=0 NRMS= 21.0352% Loss=0.31265\n",
      "########## new best ###########\n",
      "epoch=1 NRMS= 10.8983% Loss=0.01522\n",
      "\n",
      "stopping early due to KeyboardInterrupt\n"
     ]
    }
   ],
   "source": [
    "sys_deepSI.fit(sys_train, epochs=100, verbose=1, batch_size=1024, Loss_kwargs=dict(nf=30), sim_val=sys_test[:5000])"
   ]
  },
  {
   "cell_type": "code",
   "execution_count": 23,
   "metadata": {},
   "outputs": [],
   "source": [
    "sys = System_encoder_RNN()"
   ]
  },
  {
   "cell_type": "code",
   "execution_count": 25,
   "metadata": {},
   "outputs": [
    {
     "name": "stdout",
     "output_type": "stream",
     "text": [
      "########## new best ###########\n",
      "N_training_samples=2, batch_size=2, N_batch_updates_per_epoch=1\n"
     ]
    },
    {
     "data": {
      "application/vnd.jupyter.widget-view+json": {
       "model_id": "ca08944e000c49f693e775cab379260e",
       "version_major": 2,
       "version_minor": 0
      },
      "text/plain": [
       "HBox(children=(FloatProgress(value=0.0), HTML(value='')))"
      ]
     },
     "metadata": {},
     "output_type": "display_data"
    },
    {
     "name": "stdout",
     "output_type": "stream",
     "text": [
      "epoch=0 NRMS=  0.6372% Loss=0.00058\n",
      "epoch=1 NRMS=  0.7295% Loss=0.00078\n",
      "epoch=2 NRMS= 12.5307% Loss=0.01006\n",
      "epoch=3 NRMS=134.5562% Loss=0.40560\n",
      "epoch=4 NRMS=  8.4986% Loss=2.38661\n",
      "epoch=5 NRMS= 53.7342% Loss=0.14707\n",
      "epoch=6 NRMS= 24.1419% Loss=1.08564\n",
      "epoch=7 NRMS= 58.7566% Loss=0.27286\n",
      "epoch=8 NRMS=116.1329% Loss=0.08324\n",
      "epoch=9 NRMS=136.4098% Loss=0.32541\n",
      "epoch=10 NRMS=126.3414% Loss=0.31802\n",
      "epoch=11 NRMS=108.9336% Loss=0.17048\n",
      "epoch=12 NRMS= 96.2121% Loss=0.07823\n",
      "epoch=13 NRMS= 90.3455% Loss=0.07446\n",
      "epoch=14 NRMS= 89.5593% Loss=0.11659\n",
      "epoch=15 NRMS= 91.8409% Loss=0.15680\n",
      "epoch=16 NRMS= 96.2515% Loss=0.16863\n",
      "epoch=17 NRMS=102.7002% Loss=0.15037\n",
      "epoch=18 NRMS=111.2542% Loss=0.11512\n",
      "epoch=19 NRMS=121.6383% Loss=0.07917\n",
      "epoch=20 NRMS=133.0436% Loss=0.05460\n",
      "epoch=21 NRMS=144.1782% Loss=0.04634\n",
      "epoch=22 NRMS=153.5280% Loss=0.05183\n",
      "epoch=23 NRMS=159.7970% Loss=0.06281\n",
      "epoch=24 NRMS=162.3707% Loss=0.06938\n",
      "epoch=25 NRMS=161.5404% Loss=0.06518\n",
      "epoch=26 NRMS=158.3380% Loss=0.05079\n",
      "epoch=27 NRMS=154.0922% Loss=0.03280\n",
      "epoch=28 NRMS=149.9711% Loss=0.01944\n",
      "epoch=29 NRMS=146.7220% Loss=0.01560\n",
      "epoch=30 NRMS=144.6716% Loss=0.02040\n",
      "epoch=31 NRMS=143.8954% Loss=0.02846\n",
      "epoch=32 NRMS=144.3942% Loss=0.03383\n",
      "epoch=33 NRMS=146.1473% Loss=0.03368\n",
      "epoch=34 NRMS=149.0462% Loss=0.02907\n",
      "epoch=35 NRMS=152.8077% Loss=0.02301\n",
      "epoch=36 NRMS=156.9594% Loss=0.01803\n",
      "epoch=37 NRMS=160.9132% Loss=0.01517\n",
      "epoch=38 NRMS=164.0865% Loss=0.01420\n",
      "epoch=39 NRMS=166.0134% Loss=0.01443\n",
      "epoch=40 NRMS=166.4250% Loss=0.01515\n",
      "epoch=41 NRMS=165.2903% Loss=0.01566\n",
      "epoch=42 NRMS=162.8155% Loss=0.01536\n",
      "epoch=43 NRMS=159.3976% Loss=0.01399\n",
      "epoch=44 NRMS=155.5358% Loss=0.01188\n",
      "epoch=45 NRMS=151.7285% Loss=0.00980\n",
      "epoch=46 NRMS=148.3899% Loss=0.00849\n",
      "epoch=47 NRMS=145.8070% Loss=0.00826\n",
      "epoch=48 NRMS=144.1379% Loss=0.00885\n",
      "epoch=49 NRMS=143.4318% Loss=0.00962\n",
      "epoch=50 NRMS=143.6541% Loss=0.00994\n",
      "epoch=51 NRMS=144.7034% Loss=0.00955\n",
      "epoch=52 NRMS=146.4191% Loss=0.00856\n",
      "epoch=53 NRMS=148.5871% Loss=0.00737\n",
      "epoch=54 NRMS=150.9526% Loss=0.00638\n",
      "epoch=55 NRMS=153.2451% Loss=0.00580\n",
      "epoch=56 NRMS=155.2135% Loss=0.00563\n",
      "epoch=57 NRMS=156.6601% Loss=0.00570\n",
      "epoch=58 NRMS=157.4670% Loss=0.00585\n",
      "epoch=59 NRMS=157.6053% Loss=0.00595\n",
      "epoch=60 NRMS=157.1291% Loss=0.00593\n",
      "epoch=61 NRMS=156.1569% Loss=0.00576\n",
      "epoch=62 NRMS=154.8468% Loss=0.00546\n",
      "epoch=63 NRMS=153.3692% Loss=0.00510\n",
      "epoch=64 NRMS=151.8830% Loss=0.00477\n",
      "epoch=65 NRMS=150.5173% Loss=0.00456\n",
      "epoch=66 NRMS=149.3633% Loss=0.00450\n",
      "epoch=67 NRMS=148.4740% Loss=0.00451\n",
      "epoch=68 NRMS=147.8686% Loss=0.00453\n",
      "epoch=69 NRMS=147.5391% Loss=0.00447\n",
      "epoch=70 NRMS=147.4558% Loss=0.00433\n",
      "epoch=71 NRMS=147.5718% Loss=0.00414\n",
      "epoch=72 NRMS=147.8279% Loss=0.00396\n",
      "epoch=73 NRMS=148.1575% Loss=0.00383\n",
      "epoch=74 NRMS=148.4937% Loss=0.00377\n",
      "epoch=75 NRMS=148.7763% Loss=0.00375\n",
      "epoch=76 NRMS=148.9580% Loss=0.00373\n",
      "epoch=77 NRMS=149.0090% Loss=0.00369\n",
      "epoch=78 NRMS=148.9189% Loss=0.00362\n",
      "epoch=79 NRMS=148.6968% Loss=0.00354\n",
      "epoch=80 NRMS=148.3681% Loss=0.00345\n",
      "epoch=81 NRMS=147.9708% Loss=0.00335\n",
      "epoch=82 NRMS=147.5489% Loss=0.00327\n",
      "epoch=83 NRMS=147.1470% Loss=0.00320\n",
      "epoch=84 NRMS=146.8029% Loss=0.00315\n",
      "epoch=85 NRMS=146.5441% Loss=0.00312\n",
      "epoch=86 NRMS=146.3844% Loss=0.00309\n",
      "epoch=87 NRMS=146.3228% Loss=0.00306\n",
      "epoch=88 NRMS=146.3454% Loss=0.00302\n",
      "epoch=89 NRMS=146.4273% Loss=0.00297\n",
      "epoch=90 NRMS=146.5370% Loss=0.00291\n",
      "epoch=91 NRMS=146.6410% Loss=0.00286\n",
      "epoch=92 NRMS=146.7080% Loss=0.00282\n",
      "epoch=93 NRMS=146.7139% Loss=0.00278\n",
      "epoch=94 NRMS=146.6438% Loss=0.00275\n",
      "epoch=95 NRMS=146.4941% Loss=0.00273\n",
      "epoch=96 NRMS=146.2716% Loss=0.00269\n",
      "epoch=97 NRMS=145.9920% Loss=0.00266\n",
      "epoch=98 NRMS=145.6763% Loss=0.00262\n",
      "epoch=99 NRMS=145.3481% Loss=0.00259\n",
      "\n"
     ]
    }
   ],
   "source": [
    "sys.fit(sys_train, epochs=100, verbose=1, batch_size=1024, Loss_kwargs=dict(nf=30))"
   ]
  },
  {
   "cell_type": "code",
   "execution_count": null,
   "metadata": {},
   "outputs": [],
   "source": []
  }
 ],
 "metadata": {
  "kernelspec": {
   "display_name": "Python 3",
   "language": "python",
   "name": "python3"
  },
  "language_info": {
   "codemirror_mode": {
    "name": "ipython",
    "version": 3
   },
   "file_extension": ".py",
   "mimetype": "text/x-python",
   "name": "python",
   "nbconvert_exporter": "python",
   "pygments_lexer": "ipython3",
   "version": "3.7.7"
  }
 },
 "nbformat": 4,
 "nbformat_minor": 4
}
