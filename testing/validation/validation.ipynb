{
 "cells": [
  {
   "cell_type": "code",
   "execution_count": 1,
   "metadata": {},
   "outputs": [],
   "source": [
    "import uxyeye\n",
    "import deepSI\n",
    "from matplotlib import pyplot as plt"
   ]
  },
  {
   "cell_type": "code",
   "execution_count": 2,
   "metadata": {},
   "outputs": [],
   "source": [
    "# sys_data_deepSI = \n",
    "sys_data_deepSI = deepSI.datasets.WienerHammerBenchMark(split_data=False)#sys_data_deepSI[:134020], sys_data_deepSI[134020:]\n",
    "sys_data_uxyeye = uxyeye.data_sets.WienerHammerBenchMark(split_data=False)"
   ]
  },
  {
   "cell_type": "code",
   "execution_count": 3,
   "metadata": {},
   "outputs": [],
   "source": [
    "sys_train_deepSI,sys_test_deepSI = sys_data_deepSI[:134020], sys_data_deepSI[134020:]\n",
    "sys_train_uxyeye,sys_test_uxyeye = sys_data_uxyeye[:134020], sys_data_uxyeye[134020:]"
   ]
  },
  {
   "cell_type": "code",
   "execution_count": 4,
   "metadata": {},
   "outputs": [],
   "source": [
    "sys_uxyeye = uxyeye.fit_systems.statespace_encoder_system_base(na=50,nb=50,nx=8,n_nodes_per_layer=60,n_hidden_layers=2,net_base=uxyeye.utils.torch_nets.modified_Lin_network)"
   ]
  },
  {
   "cell_type": "code",
   "execution_count": 5,
   "metadata": {},
   "outputs": [],
   "source": [
    "sys_deepSI = deepSI.fit_systems.Fit_system.System_encoder(nx=8,na=50,nb=50)"
   ]
  },
  {
   "cell_type": "code",
   "execution_count": 12,
   "metadata": {
    "scrolled": false
   },
   "outputs": [
    {
     "name": "stdout",
     "output_type": "stream",
     "text": [
      "N_train_samples=134020 batch_size=1024 N_batch_updates_per_epoch=130\n",
      "init ##################### New Lowest Validation loss: 1.070347064289305 #############################\n"
     ]
    },
    {
     "data": {
      "application/vnd.jupyter.widget-view+json": {
       "model_id": "62fb88bff7e14974891c0a2f120ca091",
       "version_major": 2,
       "version_minor": 0
      },
      "text/plain": [
       "HBox(children=(FloatProgress(value=0.0), HTML(value='')))"
      ]
     },
     "metadata": {},
     "output_type": "display_data"
    },
    {
     "name": "stdout",
     "output_type": "stream",
     "text": [
      "Epoch:    1 Training loss:  0.3255 Validation loss = 0.2614, time Loss: 26.5%, back: 44.6%, val: 13.9%\n",
      "##################### New Lowest Validation loss: 0.2614100753607664 #############################\n",
      "Epoch:    2 Training loss: 0.02546 Validation loss = 0.1497, time Loss: 27.9%, back: 48.3%, val: 15.3%\n",
      "##################### New Lowest Validation loss: 0.14972262010082654 #############################\n",
      "Epoch:    3 Training loss: 0.01368 Validation loss = 0.1402, time Loss: 28.3%, back: 49.7%, val: 15.8%\n",
      "##################### New Lowest Validation loss: 0.14022996122869022 #############################\n",
      "Epoch:    4 Training loss:  0.0103 Validation loss = 0.1188, time Loss: 28.7%, back: 50.2%, val: 16.1%\n",
      "##################### New Lowest Validation loss: 0.11876787292705374 #############################\n",
      "Epoch:    5 Training loss: 0.00943 Validation loss = 0.1174, time Loss: 28.9%, back: 50.7%, val: 16.3%\n",
      "##################### New Lowest Validation loss: 0.11743679667346792 #############################\n",
      "Epoch:    6 Training loss: 0.00797 Validation loss =  0.116, time Loss: 29.3%, back: 50.9%, val: 16.2%\n",
      "##################### New Lowest Validation loss: 0.11599391276962195 #############################\n",
      "Epoch:    7 Training loss: 0.00732 Validation loss = 0.1031, time Loss: 29.6%, back: 51.0%, val: 16.2%\n",
      "##################### New Lowest Validation loss: 0.10306067907180431 #############################\n",
      "Epoch:    8 Training loss: 0.007175 Validation loss = 0.1139, time Loss: 29.6%, back: 51.2%, val: 16.3%\n",
      "Epoch:    9 Training loss: 0.00613 Validation loss = 0.1172, time Loss: 29.9%, back: 51.2%, val: 16.3%\n",
      "Epoch:   10 Training loss: 0.006287 Validation loss = 0.09368, time Loss: 30.0%, back: 51.3%, val: 16.3%\n",
      "##################### New Lowest Validation loss: 0.09367843662980786 #############################\n",
      "Epoch:   11 Training loss: 0.005495 Validation loss = 0.09203, time Loss: 29.9%, back: 51.4%, val: 16.3%\n",
      "##################### New Lowest Validation loss: 0.09202808656136754 #############################\n",
      "Epoch:   12 Training loss: 0.004921 Validation loss = 0.08421, time Loss: 30.0%, back: 51.5%, val: 16.3%\n",
      "##################### New Lowest Validation loss: 0.08421189518378853 #############################\n",
      "Epoch:   13 Training loss: 0.004817 Validation loss = 0.09668, time Loss: 29.9%, back: 51.6%, val: 16.4%\n",
      "Epoch:   14 Training loss: 0.004377 Validation loss = 0.07895, time Loss: 30.0%, back: 51.7%, val: 16.4%\n",
      "##################### New Lowest Validation loss: 0.07895379593292194 #############################\n",
      "Epoch:   15 Training loss: 0.004161 Validation loss = 0.08408, time Loss: 29.9%, back: 51.8%, val: 16.4%\n",
      "Epoch:   16 Training loss: 0.003993 Validation loss = 0.07763, time Loss: 29.8%, back: 51.8%, val: 16.5%\n",
      "##################### New Lowest Validation loss: 0.07762667744305596 #############################\n",
      "Epoch:   17 Training loss: 0.004214 Validation loss = 0.08646, time Loss: 29.9%, back: 51.9%, val: 16.5%\n",
      "Epoch:   18 Training loss: 0.003454 Validation loss = 0.0747, time Loss: 29.8%, back: 51.9%, val: 16.5%\n",
      "##################### New Lowest Validation loss: 0.07470403092204693 #############################\n",
      "Epoch:   19 Training loss: 0.00354 Validation loss = 0.07361, time Loss: 29.8%, back: 52.0%, val: 16.5%\n",
      "##################### New Lowest Validation loss: 0.07360928727497267 #############################\n",
      "Epoch:   20 Training loss: 0.003334 Validation loss = 0.08012, time Loss: 29.9%, back: 52.0%, val: 16.5%\n",
      "Epoch:   21 Training loss: 0.003263 Validation loss = 0.07022, time Loss: 29.9%, back: 52.0%, val: 16.5%\n",
      "##################### New Lowest Validation loss: 0.07022382319822389 #############################\n",
      "Epoch:   22 Training loss: 0.003177 Validation loss = 0.08329, time Loss: 30.0%, back: 52.0%, val: 16.5%\n",
      "Epoch:   23 Training loss: 0.003092 Validation loss = 0.1002, time Loss: 30.0%, back: 52.0%, val: 16.5%\n",
      "Epoch:   24 Training loss: 0.003372 Validation loss = 0.07371, time Loss: 30.0%, back: 52.0%, val: 16.5%\n",
      "Epoch:   25 Training loss: 0.002671 Validation loss = 0.06889, time Loss: 30.0%, back: 52.1%, val: 16.5%\n",
      "##################### New Lowest Validation loss: 0.06889490372104504 #############################\n",
      "Epoch:   26 Training loss: 0.002843 Validation loss = 0.06445, time Loss: 30.0%, back: 52.1%, val: 16.5%\n",
      "##################### New Lowest Validation loss: 0.06444804376374123 #############################\n",
      "Epoch:   27 Training loss: 0.002447 Validation loss = 0.07736, time Loss: 30.0%, back: 52.1%, val: 16.5%\n",
      "Epoch:   28 Training loss: 0.002855 Validation loss = 0.06283, time Loss: 30.0%, back: 52.1%, val: 16.5%\n",
      "##################### New Lowest Validation loss: 0.06283382446323285 #############################\n",
      "Epoch:   29 Training loss: 0.002171 Validation loss = 0.0542, time Loss: 29.9%, back: 52.2%, val: 16.5%\n",
      "##################### New Lowest Validation loss: 0.054196658887933055 #############################\n",
      "Epoch:   30 Training loss: 0.002308 Validation loss = 0.05152, time Loss: 29.9%, back: 52.2%, val: 16.5%\n",
      "##################### New Lowest Validation loss: 0.0515168899355979 #############################\n",
      "Epoch:   31 Training loss: 0.001869 Validation loss = 0.05344, time Loss: 30.0%, back: 52.2%, val: 16.5%\n",
      "Epoch:   32 Training loss: 0.001958 Validation loss = 0.04939, time Loss: 30.0%, back: 52.2%, val: 16.5%\n",
      "##################### New Lowest Validation loss: 0.04938590909919933 #############################\n",
      "Epoch:   33 Training loss:  0.0018 Validation loss = 0.04651, time Loss: 30.0%, back: 52.2%, val: 16.5%\n",
      "##################### New Lowest Validation loss: 0.046510813912477 #############################\n",
      "Epoch:   34 Training loss: 0.001801 Validation loss = 0.04535, time Loss: 30.1%, back: 52.2%, val: 16.4%\n",
      "##################### New Lowest Validation loss: 0.045349986740398134 #############################\n",
      "Epoch:   35 Training loss: 0.001555 Validation loss = 0.04242, time Loss: 30.0%, back: 52.2%, val: 16.4%\n",
      "##################### New Lowest Validation loss: 0.04242313913372983 #############################\n",
      "Epoch:   36 Training loss: 0.001675 Validation loss = 0.04878, time Loss: 30.0%, back: 52.3%, val: 16.5%\n",
      "Epoch:   37 Training loss: 0.001456 Validation loss = 0.04378, time Loss: 30.0%, back: 52.3%, val: 16.4%\n",
      "Epoch:   38 Training loss: 0.001483 Validation loss = 0.06196, time Loss: 30.0%, back: 52.3%, val: 16.4%\n",
      "Epoch:   39 Training loss: 0.001541 Validation loss = 0.03909, time Loss: 30.0%, back: 52.4%, val: 16.4%\n",
      "##################### New Lowest Validation loss: 0.039094451616792744 #############################\n",
      "Epoch:   40 Training loss: 0.001298 Validation loss = 0.04282, time Loss: 30.1%, back: 52.4%, val: 16.3%\n",
      "Epoch:   41 Training loss: 0.001399 Validation loss = 0.04676, time Loss: 30.1%, back: 52.4%, val: 16.3%\n",
      "Epoch:   42 Training loss: 0.001173 Validation loss = 0.04771, time Loss: 30.1%, back: 52.4%, val: 16.3%\n",
      "Epoch:   43 Training loss: 0.001386 Validation loss = 0.03671, time Loss: 30.1%, back: 52.5%, val: 16.2%\n",
      "##################### New Lowest Validation loss: 0.03671109992059411 #############################\n",
      "Epoch:   44 Training loss: 0.001282 Validation loss = 0.03788, time Loss: 30.2%, back: 52.5%, val: 16.2%\n",
      "Epoch:   45 Training loss: 0.00114 Validation loss = 0.03871, time Loss: 30.2%, back: 52.5%, val: 16.2%\n",
      "Epoch:   46 Training loss: 0.001271 Validation loss = 0.06543, time Loss: 30.2%, back: 52.5%, val: 16.2%\n",
      "Epoch:   47 Training loss: 0.001213 Validation loss = 0.03566, time Loss: 30.2%, back: 52.5%, val: 16.2%\n",
      "##################### New Lowest Validation loss: 0.03565529780494674 #############################\n",
      "Epoch:   48 Training loss: 0.001148 Validation loss = 0.0393, time Loss: 30.2%, back: 52.6%, val: 16.1%\n",
      "Epoch:   49 Training loss: 0.001207 Validation loss = 0.03859, time Loss: 30.2%, back: 52.6%, val: 16.1%\n",
      "Epoch:   50 Training loss: 0.00106 Validation loss = 0.04739, time Loss: 30.2%, back: 52.6%, val: 16.1%\n",
      "Epoch:   51 Training loss: 0.001002 Validation loss = 0.04479, time Loss: 30.2%, back: 52.6%, val: 16.1%\n",
      "Epoch:   52 Training loss: 0.0009822 Validation loss = 0.03363, time Loss: 30.2%, back: 52.6%, val: 16.1%\n",
      "##################### New Lowest Validation loss: 0.033630336207984425 #############################\n"
     ]
    },
    {
     "name": "stdout",
     "output_type": "stream",
     "text": [
      "Epoch:   53 Training loss: 0.001136 Validation loss = 0.05089, time Loss: 30.2%, back: 52.6%, val: 16.2%\n",
      "Epoch:   54 Training loss: 0.001002 Validation loss = 0.03891, time Loss: 30.2%, back: 52.6%, val: 16.2%\n",
      "Epoch:   55 Training loss: 0.001068 Validation loss = 0.06699, time Loss: 30.2%, back: 52.6%, val: 16.2%\n",
      "Epoch:   56 Training loss: 0.001011 Validation loss = 0.03337, time Loss: 30.1%, back: 52.6%, val: 16.2%\n",
      "##################### New Lowest Validation loss: 0.03337206926992768 #############################\n",
      "Epoch:   57 Training loss: 0.0009184 Validation loss = 0.0344, time Loss: 30.2%, back: 52.7%, val: 16.1%\n",
      "Epoch:   58 Training loss: 0.000843 Validation loss = 0.03227, time Loss: 30.2%, back: 52.6%, val: 16.1%\n",
      "##################### New Lowest Validation loss: 0.032269463489664994 #############################\n",
      "Epoch:   59 Training loss: 0.0009865 Validation loss = 0.04335, time Loss: 30.2%, back: 52.6%, val: 16.1%\n",
      "Epoch:   60 Training loss: 0.0008115 Validation loss = 0.04267, time Loss: 30.2%, back: 52.6%, val: 16.1%\n",
      "Epoch:   61 Training loss: 0.0007988 Validation loss = 0.03312, time Loss: 30.2%, back: 52.6%, val: 16.2%\n",
      "Epoch:   62 Training loss: 0.0007662 Validation loss = 0.03587, time Loss: 30.2%, back: 52.6%, val: 16.2%\n",
      "Epoch:   63 Training loss: 0.00093 Validation loss = 0.03109, time Loss: 30.2%, back: 52.6%, val: 16.2%\n",
      "##################### New Lowest Validation loss: 0.031086333484359012 #############################\n",
      "Epoch:   64 Training loss: 0.001035 Validation loss = 0.03611, time Loss: 30.2%, back: 52.6%, val: 16.2%\n",
      "Epoch:   65 Training loss: 0.0006542 Validation loss = 0.03351, time Loss: 30.2%, back: 52.6%, val: 16.2%\n",
      "Epoch:   66 Training loss: 0.0008341 Validation loss = 0.02947, time Loss: 30.1%, back: 52.6%, val: 16.2%\n",
      "##################### New Lowest Validation loss: 0.029468737949702485 #############################\n",
      "Epoch:   67 Training loss: 0.000817 Validation loss = 0.02804, time Loss: 30.1%, back: 52.6%, val: 16.2%\n",
      "##################### New Lowest Validation loss: 0.02804187989402475 #############################\n",
      "Epoch:   68 Training loss: 0.0007148 Validation loss = 0.02775, time Loss: 30.1%, back: 52.6%, val: 16.2%\n",
      "##################### New Lowest Validation loss: 0.027747498831549068 #############################\n",
      "Epoch:   69 Training loss: 0.0007373 Validation loss = 0.03013, time Loss: 30.1%, back: 52.6%, val: 16.2%\n",
      "Epoch:   70 Training loss: 0.0007509 Validation loss = 0.03859, time Loss: 30.1%, back: 52.6%, val: 16.3%\n",
      "Epoch:   71 Training loss: 0.0007373 Validation loss = 0.02845, time Loss: 30.1%, back: 52.7%, val: 16.3%\n",
      "Epoch:   72 Training loss: 0.0007476 Validation loss = 0.03121, time Loss: 30.1%, back: 52.6%, val: 16.3%\n",
      "Epoch:   73 Training loss: 0.0006302 Validation loss = 0.02721, time Loss: 30.1%, back: 52.6%, val: 16.3%\n",
      "##################### New Lowest Validation loss: 0.02721460294959317 #############################\n",
      "Epoch:   74 Training loss: 0.0006984 Validation loss = 0.0334, time Loss: 30.1%, back: 52.7%, val: 16.3%\n",
      "Epoch:   75 Training loss: 0.0007777 Validation loss = 0.03316, time Loss: 30.1%, back: 52.7%, val: 16.3%\n",
      "Epoch:   76 Training loss: 0.0005911 Validation loss = 0.02911, time Loss: 30.1%, back: 52.7%, val: 16.3%\n",
      "Epoch:   77 Training loss: 0.0007111 Validation loss = 0.02614, time Loss: 30.1%, back: 52.7%, val: 16.3%\n",
      "##################### New Lowest Validation loss: 0.026137542690126876 #############################\n",
      "Epoch:   78 Training loss: 0.0006107 Validation loss = 0.03274, time Loss: 30.1%, back: 52.7%, val: 16.3%\n",
      "Epoch:   79 Training loss: 0.0006388 Validation loss = 0.02896, time Loss: 30.0%, back: 52.7%, val: 16.3%\n",
      "Epoch:   80 Training loss: 0.0005985 Validation loss = 0.02471, time Loss: 30.0%, back: 52.7%, val: 16.3%\n",
      "##################### New Lowest Validation loss: 0.02470821436965284 #############################\n",
      "Epoch:   81 Training loss: 0.0006561 Validation loss = 0.0291, time Loss: 30.0%, back: 52.7%, val: 16.3%\n",
      "Epoch:   82 Training loss: 0.0006435 Validation loss = 0.02776, time Loss: 30.0%, back: 52.7%, val: 16.3%\n",
      "Epoch:   83 Training loss: 0.0005479 Validation loss = 0.0261, time Loss: 30.0%, back: 52.7%, val: 16.3%\n",
      "Epoch:   84 Training loss: 0.000799 Validation loss = 0.02807, time Loss: 30.0%, back: 52.7%, val: 16.3%\n",
      "Epoch:   85 Training loss: 0.0004735 Validation loss = 0.02795, time Loss: 30.0%, back: 52.7%, val: 16.3%\n",
      "Epoch:   86 Training loss: 0.0005714 Validation loss = 0.03736, time Loss: 30.0%, back: 52.7%, val: 16.3%\n",
      "Epoch:   87 Training loss: 0.0005435 Validation loss = 0.03089, time Loss: 30.0%, back: 52.7%, val: 16.3%\n",
      "Epoch:   88 Training loss: 0.0005145 Validation loss = 0.03178, time Loss: 30.0%, back: 52.7%, val: 16.3%\n",
      "Epoch:   89 Training loss: 0.0005475 Validation loss = 0.02528, time Loss: 30.0%, back: 52.7%, val: 16.3%\n",
      "Epoch:   90 Training loss: 0.000512 Validation loss = 0.03224, time Loss: 30.0%, back: 52.7%, val: 16.3%\n",
      "Epoch:   91 Training loss: 0.0005308 Validation loss = 0.02509, time Loss: 30.0%, back: 52.7%, val: 16.3%\n",
      "Epoch:   92 Training loss: 0.000488 Validation loss = 0.02569, time Loss: 30.0%, back: 52.7%, val: 16.3%\n",
      "Epoch:   93 Training loss: 0.0005456 Validation loss = 0.02501, time Loss: 30.0%, back: 52.7%, val: 16.3%\n",
      "Epoch:   94 Training loss: 0.000487 Validation loss = 0.02191, time Loss: 30.0%, back: 52.7%, val: 16.3%\n",
      "##################### New Lowest Validation loss: 0.02191358450892133 #############################\n",
      "Epoch:   95 Training loss: 0.0005227 Validation loss = 0.02589, time Loss: 30.0%, back: 52.7%, val: 16.3%\n",
      "Epoch:   96 Training loss: 0.0004943 Validation loss = 0.02509, time Loss: 30.0%, back: 52.7%, val: 16.3%\n",
      "Epoch:   97 Training loss: 0.0004615 Validation loss = 0.03376, time Loss: 30.0%, back: 52.8%, val: 16.3%\n",
      "Epoch:   98 Training loss: 0.0005062 Validation loss = 0.02508, time Loss: 30.0%, back: 52.8%, val: 16.3%\n",
      "Epoch:   99 Training loss: 0.0004733 Validation loss = 0.03424, time Loss: 30.0%, back: 52.8%, val: 16.3%\n",
      "Epoch:  100 Training loss: 0.0004542 Validation loss = 0.03192, time Loss: 30.0%, back: 52.8%, val: 16.3%\n",
      "\n"
     ]
    }
   ],
   "source": [
    "sys_uxyeye.fit(sys_train_uxyeye,verbose=2,epochs=100,nf=30,sim_val=sys_test_uxyeye[:5000],batch_size=1024)"
   ]
  },
  {
   "cell_type": "code",
   "execution_count": 6,
   "metadata": {},
   "outputs": [],
   "source": [
    "# sys_uxyeye.save_system(dir_placement='./',name='encoder_uxyeye_best')\n",
    "# sys_uxyeye.load_system(dir_placement=sys_uxyeye.checkpoint_dir,name='_last')\n",
    "# sys_uxyeye.save_system(dir_placement='./',name='encoder_uxyeye_last')\n",
    "sys_uxyeye.load_system(dir_placement='./',name='encoder_uxyeye_best')"
   ]
  },
  {
   "cell_type": "code",
   "execution_count": 7,
   "metadata": {},
   "outputs": [],
   "source": [
    "#SAVE!\n",
    "#OPTIMIZER"
   ]
  },
  {
   "cell_type": "code",
   "execution_count": 8,
   "metadata": {},
   "outputs": [
    {
     "name": "stdout",
     "output_type": "stream",
     "text": [
      "########## new best ###########\n",
      "N_training_samples=133941, batch_size=1024, N_batch_updates_per_epoch=130\n"
     ]
    },
    {
     "data": {
      "application/vnd.jupyter.widget-view+json": {
       "model_id": "d200118488184863bcf07048cec67ec2",
       "version_major": 2,
       "version_minor": 0
      },
      "text/plain": [
       "HBox(children=(FloatProgress(value=1.0, bar_style='info', max=1.0), HTML(value='')))"
      ]
     },
     "metadata": {},
     "output_type": "display_data"
    },
    {
     "name": "stdout",
     "output_type": "stream",
     "text": [
      "\n"
     ]
    }
   ],
   "source": [
    "sys_deepSI.fit(sys_train_deepSI, epochs=0, verbose=1, batch_size=1024, Loss_kwargs=dict(nf=30), sim_val=sys_test_deepSI[:5000])"
   ]
  },
  {
   "cell_type": "code",
   "execution_count": 9,
   "metadata": {},
   "outputs": [],
   "source": [
    "from torch import optim\n",
    "\n",
    "sys_deepSI.optimizer = optim.Adam(sys_deepSI.paremters)"
   ]
  },
  {
   "cell_type": "code",
   "execution_count": 10,
   "metadata": {},
   "outputs": [
    {
     "name": "stdout",
     "output_type": "stream",
     "text": [
      "########## new best ###########\n",
      "N_training_samples=133941, batch_size=1024, N_batch_updates_per_epoch=130\n"
     ]
    },
    {
     "data": {
      "application/vnd.jupyter.widget-view+json": {
       "model_id": "86db765f3f6d420781ef2424dcc6e9d6",
       "version_major": 2,
       "version_minor": 0
      },
      "text/plain": [
       "HBox(children=(FloatProgress(value=0.0), HTML(value='')))"
      ]
     },
     "metadata": {},
     "output_type": "display_data"
    },
    {
     "name": "stdout",
     "output_type": "stream",
     "text": [
      "########## new best ###########\n",
      "epoch=0 NRMS= 17.5326% Loss=0.25271\n",
      "########## new best ###########\n",
      "epoch=1 NRMS= 12.9002% Loss=0.01633\n",
      "########## new best ###########\n",
      "epoch=2 NRMS= 11.0207% Loss=0.01031\n",
      "########## new best ###########\n",
      "epoch=3 NRMS=  9.8582% Loss=0.00806\n",
      "########## new best ###########\n",
      "epoch=4 NRMS=  9.1188% Loss=0.00647\n",
      "epoch=5 NRMS=  9.3742% Loss=0.00532\n",
      "########## new best ###########\n",
      "epoch=6 NRMS=  8.9842% Loss=0.00502\n",
      "########## new best ###########\n",
      "epoch=7 NRMS=  8.1984% Loss=0.00451\n",
      "########## new best ###########\n",
      "epoch=8 NRMS=  7.8191% Loss=0.00459\n",
      "########## new best ###########\n",
      "epoch=9 NRMS=  7.3033% Loss=0.00387\n",
      "epoch=10 NRMS=  8.4668% Loss=0.00381\n",
      "########## new best ###########\n",
      "epoch=11 NRMS=  6.9228% Loss=0.00384\n",
      "epoch=12 NRMS=  9.4390% Loss=0.00363\n",
      "########## new best ###########\n",
      "epoch=13 NRMS=  6.8343% Loss=0.00326\n",
      "########## new best ###########\n",
      "epoch=14 NRMS=  6.6410% Loss=0.00335\n",
      "epoch=15 NRMS=  7.6493% Loss=0.00307\n",
      "epoch=16 NRMS=  7.8730% Loss=0.00301\n",
      "epoch=17 NRMS=  6.9965% Loss=0.00273\n",
      "epoch=18 NRMS=  6.8012% Loss=0.00340\n",
      "########## new best ###########\n",
      "epoch=19 NRMS=  6.5515% Loss=0.00215\n",
      "########## new best ###########\n",
      "epoch=20 NRMS=  6.3301% Loss=0.00285\n",
      "########## new best ###########\n",
      "epoch=21 NRMS=  5.9197% Loss=0.00225\n",
      "epoch=22 NRMS=  6.6455% Loss=0.00238\n",
      "epoch=23 NRMS=  6.3948% Loss=0.00211\n",
      "epoch=24 NRMS=  6.3812% Loss=0.00225\n",
      "########## new best ###########\n",
      "epoch=25 NRMS=  5.9072% Loss=0.00211\n",
      "########## new best ###########\n",
      "epoch=26 NRMS=  5.7782% Loss=0.00217\n",
      "epoch=27 NRMS=  6.7961% Loss=0.00190\n",
      "epoch=28 NRMS=  6.3300% Loss=0.00205\n",
      "########## new best ###########\n",
      "epoch=29 NRMS=  5.4601% Loss=0.00187\n",
      "########## new best ###########\n",
      "epoch=30 NRMS=  5.0720% Loss=0.00191\n",
      "epoch=31 NRMS=  5.5369% Loss=0.00169\n",
      "epoch=32 NRMS=  5.2130% Loss=0.00186\n",
      "epoch=33 NRMS=  5.9949% Loss=0.00168\n",
      "epoch=34 NRMS=  5.7694% Loss=0.00168\n",
      "########## new best ###########\n",
      "epoch=35 NRMS=  5.0666% Loss=0.00163\n",
      "########## new best ###########\n",
      "epoch=36 NRMS=  4.9053% Loss=0.00154\n",
      "########## new best ###########\n",
      "epoch=37 NRMS=  4.6656% Loss=0.00162\n",
      "########## new best ###########\n",
      "epoch=38 NRMS=  4.6180% Loss=0.00150\n",
      "epoch=39 NRMS=  4.8715% Loss=0.00156\n",
      "epoch=40 NRMS=  4.7104% Loss=0.00152\n",
      "epoch=41 NRMS=  5.3110% Loss=0.00146\n",
      "epoch=42 NRMS=  4.8285% Loss=0.00141\n",
      "epoch=43 NRMS=  4.7646% Loss=0.00139\n",
      "########## new best ###########\n",
      "epoch=44 NRMS=  4.2635% Loss=0.00144\n",
      "epoch=45 NRMS=  4.5845% Loss=0.00138\n",
      "epoch=46 NRMS=  4.5288% Loss=0.00124\n",
      "epoch=47 NRMS=  5.6024% Loss=0.00147\n",
      "########## new best ###########\n",
      "epoch=48 NRMS=  4.0557% Loss=0.00120\n",
      "epoch=49 NRMS=  5.2401% Loss=0.00121\n",
      "########## new best ###########\n",
      "epoch=50 NRMS=  4.0495% Loss=0.00128\n",
      "########## new best ###########\n",
      "epoch=51 NRMS=  3.8488% Loss=0.00108\n",
      "epoch=52 NRMS=  3.8553% Loss=0.00120\n",
      "epoch=53 NRMS=  4.8798% Loss=0.00113\n",
      "epoch=54 NRMS=  4.3350% Loss=0.00118\n",
      "########## new best ###########\n",
      "epoch=55 NRMS=  3.7993% Loss=0.00098\n",
      "########## new best ###########\n",
      "epoch=56 NRMS=  3.3916% Loss=0.00097\n",
      "epoch=57 NRMS=  3.5043% Loss=0.00108\n",
      "epoch=58 NRMS=  5.0610% Loss=0.00088\n",
      "epoch=59 NRMS=  4.8533% Loss=0.00087\n",
      "########## new best ###########\n",
      "epoch=60 NRMS=  3.2712% Loss=0.00076\n",
      "########## new best ###########\n",
      "epoch=61 NRMS=  2.9420% Loss=0.00076\n",
      "epoch=62 NRMS=  3.5646% Loss=0.00080\n",
      "epoch=63 NRMS=  2.9691% Loss=0.00068\n",
      "########## new best ###########\n",
      "epoch=64 NRMS=  2.9060% Loss=0.00084\n",
      "epoch=65 NRMS=  4.5738% Loss=0.00058\n",
      "epoch=66 NRMS=  3.0417% Loss=0.00066\n",
      "epoch=67 NRMS=  3.6015% Loss=0.00074\n",
      "########## new best ###########\n",
      "epoch=68 NRMS=  2.7357% Loss=0.00061\n",
      "epoch=69 NRMS=  4.1279% Loss=0.00068\n",
      "epoch=70 NRMS=  3.3342% Loss=0.00060\n",
      "epoch=71 NRMS=  2.9268% Loss=0.00059\n",
      "epoch=72 NRMS=  2.9038% Loss=0.00058\n",
      "########## new best ###########\n",
      "epoch=73 NRMS=  2.4927% Loss=0.00055\n",
      "epoch=74 NRMS=  3.4678% Loss=0.00074\n",
      "epoch=75 NRMS=  3.1927% Loss=0.00048\n",
      "epoch=76 NRMS=  2.8020% Loss=0.00056\n",
      "epoch=77 NRMS=  2.7033% Loss=0.00052\n",
      "epoch=78 NRMS=  2.9177% Loss=0.00053\n",
      "epoch=79 NRMS=  3.3882% Loss=0.00054\n",
      "epoch=80 NRMS=  3.0119% Loss=0.00057\n",
      "epoch=81 NRMS=  2.8325% Loss=0.00049\n",
      "epoch=82 NRMS=  2.8816% Loss=0.00044\n",
      "epoch=83 NRMS=  3.0975% Loss=0.00053\n",
      "epoch=84 NRMS=  3.2566% Loss=0.00047\n",
      "epoch=85 NRMS=  2.7765% Loss=0.00053\n",
      "epoch=86 NRMS=  2.5596% Loss=0.00043\n",
      "########## new best ###########\n",
      "epoch=87 NRMS=  2.2637% Loss=0.00045\n",
      "epoch=88 NRMS=  2.6105% Loss=0.00047\n",
      "epoch=89 NRMS=  2.4750% Loss=0.00047\n",
      "epoch=90 NRMS=  2.3393% Loss=0.00041\n",
      "epoch=91 NRMS=  3.2037% Loss=0.00046\n",
      "epoch=92 NRMS=  2.4127% Loss=0.00043\n",
      "epoch=93 NRMS=  2.5534% Loss=0.00038\n",
      "epoch=94 NRMS=  2.6620% Loss=0.00044\n",
      "epoch=95 NRMS=  2.3136% Loss=0.00040\n",
      "########## new best ###########\n",
      "epoch=96 NRMS=  1.9807% Loss=0.00040\n",
      "epoch=97 NRMS=  2.3671% Loss=0.00038\n",
      "epoch=98 NRMS=  3.5893% Loss=0.00038\n",
      "epoch=99 NRMS=  2.9949% Loss=0.00052\n",
      "\n"
     ]
    }
   ],
   "source": [
    "sys_deepSI.fit(sys_train_deepSI, epochs=100, verbose=1, batch_size=1024, Loss_kwargs=dict(nf=30), sim_val=sys_test_deepSI[:5000])"
   ]
  },
  {
   "cell_type": "code",
   "execution_count": 11,
   "metadata": {},
   "outputs": [],
   "source": [
    "sys_deepSI.checkpoint_load_system()"
   ]
  },
  {
   "cell_type": "code",
   "execution_count": 19,
   "metadata": {},
   "outputs": [
    {
     "data": {
      "text/plain": [
       "Text(0, 0.5, 'Simulation loss test')"
      ]
     },
     "execution_count": 19,
     "metadata": {},
     "output_type": "execute_result"
    },
    {
     "data": {
      "image/png": "[encoded data removed]",
      "text/plain": [
       "<Figure size 432x288 with 1 Axes>"
      ]
     },
     "metadata": {
      "needs_background": "light"
     },
     "output_type": "display_data"
    }
   ],
   "source": [
    "plt.plot(sys_deepSI.Loss_val[2:])\n",
    "plt.plot(sys_uxyeye.Loss_val)\n",
    "plt.legend(['deepSI','uxyeye'])\n",
    "plt.xlabel('epoch')\n",
    "plt.ylabel('Simulation loss test')"
   ]
  },
  {
   "cell_type": "code",
   "execution_count": 16,
   "metadata": {},
   "outputs": [
    {
     "data": {
      "text/plain": [
       "[0.2614100753607664,\n",
       " 0.14972262010082654,\n",
       " 0.14022996122869022,\n",
       " 0.11876787292705374,\n",
       " 0.11743679667346792,\n",
       " 0.11599391276962195,\n",
       " 0.10306067907180431,\n",
       " 0.11385795121986861,\n",
       " 0.11722454370078675,\n",
       " 0.09367843662980786,\n",
       " 0.09202808656136754,\n",
       " 0.08421189518378853,\n",
       " 0.09668203772151276,\n",
       " 0.07895379593292194,\n",
       " 0.08407772408632835,\n",
       " 0.07762667744305596,\n",
       " 0.08646100848958953,\n",
       " 0.07470403092204693,\n",
       " 0.07360928727497267,\n",
       " 0.08011523095140774,\n",
       " 0.07022382319822389,\n",
       " 0.0832864051838072,\n",
       " 0.10023666887336147,\n",
       " 0.07371470708369991,\n",
       " 0.06889490372104504,\n",
       " 0.06444804376374123,\n",
       " 0.07736356103618432,\n",
       " 0.06283382446323285,\n",
       " 0.054196658887933055,\n",
       " 0.0515168899355979,\n",
       " 0.05344317608625236,\n",
       " 0.04938590909919933,\n",
       " 0.046510813912477,\n",
       " 0.045349986740398134,\n",
       " 0.04242313913372983,\n",
       " 0.04877706257970201,\n",
       " 0.04378279044106805,\n",
       " 0.06196377765431688,\n",
       " 0.039094451616792744,\n",
       " 0.04281952857291817,\n",
       " 0.046758992954455326,\n",
       " 0.04771104934637607,\n",
       " 0.03671109992059411,\n",
       " 0.03788140682300484,\n",
       " 0.03871474831207556,\n",
       " 0.06542598814611117,\n",
       " 0.03565529780494674,\n",
       " 0.039295378102922336,\n",
       " 0.03858934099597939,\n",
       " 0.04739411051081572,\n",
       " 0.0447885387771389,\n",
       " 0.033630336207984425,\n",
       " 0.050887970545991555,\n",
       " 0.038910926268425426,\n",
       " 0.06699228959415161,\n",
       " 0.03337206926992768,\n",
       " 0.03439923406448108,\n",
       " 0.032269463489664994,\n",
       " 0.0433494650894953,\n",
       " 0.042665677113957856,\n",
       " 0.0331155528603664,\n",
       " 0.03586940165559437,\n",
       " 0.031086333484359012,\n",
       " 0.03610715428774758,\n",
       " 0.03351278786589437,\n",
       " 0.029468737949702485,\n",
       " 0.02804187989402475,\n",
       " 0.027747498831549068,\n",
       " 0.03013167371052357,\n",
       " 0.038594177890226414,\n",
       " 0.028448180878942908,\n",
       " 0.03120862392983827,\n",
       " 0.02721460294959317,\n",
       " 0.033403782318357854,\n",
       " 0.03316343666382782,\n",
       " 0.02911281111855536,\n",
       " 0.026137542690126876,\n",
       " 0.032739950553560965,\n",
       " 0.02895821568780218,\n",
       " 0.02470821436965284,\n",
       " 0.02910166008214097,\n",
       " 0.027755889725807375,\n",
       " 0.026099798880434757,\n",
       " 0.02807058809119802,\n",
       " 0.027952873955328854,\n",
       " 0.03736264792316235,\n",
       " 0.03089272826928947,\n",
       " 0.031779610860907595,\n",
       " 0.025275913500240742,\n",
       " 0.03223850760716459,\n",
       " 0.025087066743624868,\n",
       " 0.02568915101491642,\n",
       " 0.025006993089835842,\n",
       " 0.02191358450892133]"
      ]
     },
     "execution_count": 16,
     "metadata": {},
     "output_type": "execute_result"
    }
   ],
   "source": []
  },
  {
   "cell_type": "code",
   "execution_count": null,
   "metadata": {},
   "outputs": [],
   "source": []
  },
  {
   "cell_type": "code",
   "execution_count": null,
   "metadata": {},
   "outputs": [],
   "source": []
  },
  {
   "cell_type": "code",
   "execution_count": 35,
   "metadata": {},
   "outputs": [],
   "source": [
    "sys_data_norm = sys_deepSI.norm.transform(sys_test_deepSI)\n",
    "obs, k0 = sys_deepSI.init_state_multi(sys_data_norm, nf=len(sys_data_norm)-50)\n",
    "_,_,ufuture,yfuture = sys_data_norm.to_hist_future_data(na=k0,nb=k0,nf=len(sys_data_norm)-50)\n",
    "predict = []\n",
    "real = []\n",
    "for unow,ynow in zip(np.swapaxes(ufuture,0,1),np.swapaxes(yfuture,0,1)):\n",
    "    predict.append(obs)\n",
    "    real.append(ynow)\n",
    "#     Losses.append(np.mean((ynow-obs)**2)**0.5)\n",
    "    obs = sys_deepSI.step_multi(unow)\n",
    "# return np.array(Losses)\n",
    "predict = np.array(predict)[:,0]\n",
    "real = np.array(real)[:,0]"
   ]
  },
  {
   "cell_type": "code",
   "execution_count": 42,
   "metadata": {},
   "outputs": [
    {
     "data": {
      "image/png": "[encoded data removed]",
      "text/plain": [
       "<Figure size 432x288 with 1 Axes>"
      ]
     },
     "metadata": {
      "needs_background": "light"
     },
     "output_type": "display_data"
    },
    {
     "data": {
      "text/plain": [
       "0.035994152412945624"
      ]
     },
     "execution_count": 42,
     "metadata": {},
     "output_type": "execute_result"
    }
   ],
   "source": [
    "plt.plot(predict)\n",
    "plt.plot(real)\n",
    "plt.show()\n",
    "\n",
    "np.mean((predict-real)**2)**0.5/np.std(real)"
   ]
  },
  {
   "cell_type": "code",
   "execution_count": 52,
   "metadata": {},
   "outputs": [],
   "source": [
    "Ypredict = []\n",
    "Yreal = []\n",
    "sys_data_norm = sys_deepSI.norm.transform(sys_test_deepSI)\n",
    "\n",
    "U = sys_data_norm.u\n",
    "obs, k0 = sys_deepSI.init_state(sys_data_norm) #is reset if init_state is not defined #normed obs\n",
    "# Y.extend(sys_data_norm.y[:k0])\n",
    "\n",
    "\n",
    "for action,yreal in zip(U[k0:],sys_data_norm.y[k0:]):\n",
    "    Ypredict.append(obs)\n",
    "    Yreal.append(yreal)\n",
    "    obs = sys_deepSI.step(action)\n",
    "Ypredict = np.array(Ypredict)\n",
    "Yreal = np.array(Yreal)"
   ]
  },
  {
   "cell_type": "code",
   "execution_count": 53,
   "metadata": {},
   "outputs": [
    {
     "data": {
      "text/plain": [
       "(array([-0.37152118, -1.04570045, -1.27414976, ..., -1.61834671,\n",
       "        -1.70414211, -1.70515744]),\n",
       " array([-0.37152118, -1.04570045, -1.27414976, ..., -1.61834671,\n",
       "        -1.70414211, -1.70515744]),\n",
       " array([-0.48205534, -0.49474241, -0.49756176, ..., -0.21703657,\n",
       "        -0.1606496 , -0.11835937]),\n",
       " array([-0.48205534, -0.49474241, -0.49756176, ..., -0.21703657,\n",
       "        -0.1606496 , -0.11835937]))"
      ]
     },
     "execution_count": 53,
     "metadata": {},
     "output_type": "execute_result"
    }
   ],
   "source": [
    "U[k0:],ufuture[0],yfuture[0],Yreal #u and y are the same"
   ]
  },
  {
   "cell_type": "code",
   "execution_count": 54,
   "metadata": {},
   "outputs": [
    {
     "data": {
      "text/plain": [
       "(array([-0.46565312, -0.47853807, -0.49326128, ..., -0.24188784,\n",
       "        -0.18554187, -0.1399833 ]),\n",
       " array([-0.46565312, -0.47853807, -0.49326128, ..., -0.24188784,\n",
       "        -0.18554187, -0.1399833 ], dtype=float32))"
      ]
     },
     "execution_count": 54,
     "metadata": {},
     "output_type": "execute_result"
    }
   ],
   "source": [
    "Ypredict,predict #found offset present"
   ]
  },
  {
   "cell_type": "code",
   "execution_count": 55,
   "metadata": {},
   "outputs": [
    {
     "data": {
      "image/png": "[encoded data removed]",
      "text/plain": [
       "<Figure size 432x288 with 1 Axes>"
      ]
     },
     "metadata": {
      "needs_background": "light"
     },
     "output_type": "display_data"
    },
    {
     "data": {
      "text/plain": [
       "0.035994152412945624"
      ]
     },
     "execution_count": 55,
     "metadata": {},
     "output_type": "execute_result"
    }
   ],
   "source": [
    "plt.plot(Ypredict)\n",
    "plt.plot(Yreal)\n",
    "plt.show()\n",
    "\n",
    "np.mean((Ypredict-Yreal)**2)**0.5/np.std(Yreal)"
   ]
  },
  {
   "cell_type": "code",
   "execution_count": 16,
   "metadata": {},
   "outputs": [
    {
     "data": {
      "text/plain": [
       "12.884041966245285"
      ]
     },
     "execution_count": 16,
     "metadata": {},
     "output_type": "execute_result"
    },
    {
     "data": {
      "image/png": "[encoded data removed]",
      "text/plain": [
       "<Figure size 432x288 with 1 Axes>"
      ]
     },
     "metadata": {
      "needs_background": "light"
     },
     "output_type": "display_data"
    }
   ],
   "source": [
    "import numpy as np\n",
    "sys_test_deepSI.plot()\n",
    "np.mean((sys_test_deepSI_predict-sys_test_deepSI).y**2)**0.5/np.std(sys_test_deepSI.y)*100\n"
   ]
  },
  {
   "cell_type": "code",
   "execution_count": 21,
   "metadata": {},
   "outputs": [
    {
     "data": {
      "text/plain": [
       "System_data of length: 44780 nu=None ny=None normed=False"
      ]
     },
     "execution_count": 21,
     "metadata": {},
     "output_type": "execute_result"
    }
   ],
   "source": [
    "sys_test_deepSI_predict"
   ]
  },
  {
   "cell_type": "code",
   "execution_count": 20,
   "metadata": {},
   "outputs": [
    {
     "data": {
      "text/plain": [
       "System_data of length: 44780 nu=None ny=None normed=False"
      ]
     },
     "execution_count": 20,
     "metadata": {},
     "output_type": "execute_result"
    }
   ],
   "source": [
    "sys_test_deepSI"
   ]
  },
  {
   "cell_type": "code",
   "execution_count": 19,
   "metadata": {},
   "outputs": [
    {
     "data": {
      "text/plain": [
       "3.1380513454031043"
      ]
     },
     "execution_count": 19,
     "metadata": {},
     "output_type": "execute_result"
    }
   ],
   "source": [
    "12.884041966245285*sys_deepSI.norm.ystd"
   ]
  },
  {
   "cell_type": "code",
   "execution_count": 12,
   "metadata": {},
   "outputs": [],
   "source": [
    "sys_test_deepSI_predict = sys_deepSI.apply_experiment(sys_test_deepSI)"
   ]
  },
  {
   "cell_type": "code",
   "execution_count": 23,
   "metadata": {},
   "outputs": [
    {
     "data": {
      "text/plain": [
       "array([-0.00755352, -0.07278847, -0.13081323, ..., -0.08674812,\n",
       "       -0.07565182, -0.06876222])"
      ]
     },
     "execution_count": 23,
     "metadata": {},
     "output_type": "execute_result"
    }
   ],
   "source": [
    "sys_test_deepSI_predict.y"
   ]
  },
  {
   "cell_type": "code",
   "execution_count": 24,
   "metadata": {},
   "outputs": [
    {
     "data": {
      "text/plain": [
       "array([-0.00755352, -0.07278847, -0.13081323, ..., -0.094419  ,\n",
       "       -0.08068533, -0.07038507])"
      ]
     },
     "execution_count": 24,
     "metadata": {},
     "output_type": "execute_result"
    }
   ],
   "source": [
    "sys_test_deepSI.y"
   ]
  }
 ],
 "metadata": {
  "kernelspec": {
   "display_name": "Python 3",
   "language": "python",
   "name": "python3"
  },
  "language_info": {
   "codemirror_mode": {
    "name": "ipython",
    "version": 3
   },
   "file_extension": ".py",
   "mimetype": "text/x-python",
   "name": "python",
   "nbconvert_exporter": "python",
   "pygments_lexer": "ipython3",
   "version": "3.7.7"
  }
 },
 "nbformat": 4,
 "nbformat_minor": 4
}
